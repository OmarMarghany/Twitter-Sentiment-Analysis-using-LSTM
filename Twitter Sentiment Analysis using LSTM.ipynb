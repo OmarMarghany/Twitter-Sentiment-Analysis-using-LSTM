{
  "nbformat": 4,
  "nbformat_minor": 0,
  "metadata": {
    "colab": {
      "provenance": [],
      "gpuType": "T4",
      "collapsed_sections": [
        "3aspyEXItgWi"
      ]
    },
    "kernelspec": {
      "name": "python3",
      "display_name": "Python 3"
    },
    "language_info": {
      "name": "python"
    },
    "accelerator": "GPU"
  },
  "cells": [
    {
      "cell_type": "markdown",
      "source": [
        "#Team Members\n",
        "##1. Name: Malak Sherif Abouelkhair - ID : 20216137\n",
        "##2. Name: Malak Mahmoud Hassan - ID : 20217010\n",
        "##3. Name: Ahmed Khaled Moghazy - ID : 20216004\n",
        "##4. Name: Omar Galal Hassan - ID : 20217006\n"
      ],
      "metadata": {
        "id": "xPg7lttkkqGv"
      }
    },
    {
      "cell_type": "code",
      "source": [
        "import pandas as pd\n",
        "import numpy as np\n",
        "import matplotlib.pyplot as plt\n",
        "import seaborn as sns\n",
        "import tensorflow_datasets as tfds\n",
        "import tensorflow as tf\n",
        "from sklearn.model_selection import train_test_split\n",
        "from keras.layers import TextVectorization\n",
        "from tensorflow.keras.models import Sequential\n",
        "from tensorflow.keras.layers import Embedding, LSTM, Dense, Dropout\n",
        "from tensorflow.keras import Input\n",
        "from tensorflow.keras.optimizers import Adam\n",
        "from sklearn.metrics import accuracy_score, f1_score\n",
        "import gensim\n",
        "import re\n",
        "import string\n",
        "import nltk\n",
        "from nltk.tokenize import word_tokenize, TweetTokenizer\n",
        "from nltk.corpus import stopwords\n",
        "from nltk.stem import WordNetLemmatizer\n",
        "!pip install emoji\n",
        "import emoji\n",
        "from gensim.models import KeyedVectors\n",
        "from tensorflow.keras.preprocessing.text import Tokenizer\n",
        "from sklearn.metrics import classification_report"
      ],
      "metadata": {
        "colab": {
          "base_uri": "https://localhost:8080/",
          "height": 0
        },
        "id": "pFQt21PF5M1o",
        "outputId": "a646fd60-09c5-4347-f820-dda12e3b1934"
      },
      "execution_count": 1,
      "outputs": [
        {
          "output_type": "stream",
          "name": "stdout",
          "text": [
            "Collecting emoji\n",
            "  Downloading emoji-2.14.0-py3-none-any.whl.metadata (5.7 kB)\n",
            "Downloading emoji-2.14.0-py3-none-any.whl (586 kB)\n",
            "\u001b[2K   \u001b[90m━━━━━━━━━━━━━━━━━━━━━━━━━━━━━━━━━━━━━━━━\u001b[0m \u001b[32m586.9/586.9 kB\u001b[0m \u001b[31m11.8 MB/s\u001b[0m eta \u001b[36m0:00:00\u001b[0m\n",
            "\u001b[?25hInstalling collected packages: emoji\n",
            "Successfully installed emoji-2.14.0\n"
          ]
        }
      ]
    },
    {
      "cell_type": "markdown",
      "source": [
        "# Preprocess"
      ],
      "metadata": {
        "id": "3aspyEXItgWi"
      }
    },
    {
      "cell_type": "markdown",
      "source": [
        "##Reading Data"
      ],
      "metadata": {
        "id": "Lyv565jkgZns"
      }
    },
    {
      "cell_type": "code",
      "source": [
        "!wget https://huggingface.co/datasets/stanfordnlp/sentiment140/resolve/refs%2Fconvert%2Fparquet/sentiment140/train/0000.parquet -O train.parquet\n",
        "train_df = pd.read_parquet('train.parquet')"
      ],
      "metadata": {
        "colab": {
          "base_uri": "https://localhost:8080/"
        },
        "id": "M7YBYePTAX9Q",
        "outputId": "8e5d9100-6886-4797-fa11-71cc29f53c58"
      },
      "execution_count": null,
      "outputs": [
        {
          "output_type": "stream",
          "name": "stdout",
          "text": [
            "--2024-12-14 12:56:20--  https://huggingface.co/datasets/stanfordnlp/sentiment140/resolve/refs%2Fconvert%2Fparquet/sentiment140/train/0000.parquet\n",
            "Resolving huggingface.co (huggingface.co)... 18.164.174.23, 18.164.174.17, 18.164.174.55, ...\n",
            "Connecting to huggingface.co (huggingface.co)|18.164.174.23|:443... connected.\n",
            "HTTP request sent, awaiting response... 302 Found\n",
            "Location: https://cdn-lfs.hf.co/datasets/sentiment140/c9e118101ee75c018f6acfa538e6b2ff098b0281ed97ce6f57548633b318f4ab?response-content-disposition=inline%3B+filename*%3DUTF-8%27%270000.parquet%3B+filename%3D%220000.parquet%22%3B&Expires=1734440181&Policy=eyJTdGF0ZW1lbnQiOlt7IkNvbmRpdGlvbiI6eyJEYXRlTGVzc1RoYW4iOnsiQVdTOkVwb2NoVGltZSI6MTczNDQ0MDE4MX19LCJSZXNvdXJjZSI6Imh0dHBzOi8vY2RuLWxmcy5oZi5jby9kYXRhc2V0cy9zZW50aW1lbnQxNDAvYzllMTE4MTAxZWU3NWMwMThmNmFjZmE1MzhlNmIyZmYwOThiMDI4MWVkOTdjZTZmNTc1NDg2MzNiMzE4ZjRhYj9yZXNwb25zZS1jb250ZW50LWRpc3Bvc2l0aW9uPSoifV19&Signature=B%7E9Sjyzh8cZdoynDOBkxigdhHTRHvypqG54cM6fE9IyFsQkDWILTeeusneu2sSdeE8BaamcAmQyvEXbOm5ZZ6pVyt%7E7bXa%7EFHjbqw5aRrFpEhOKznBYkxV3iBC3d43tacDSkCiShKdeSEvGLp9GHJ8t5PPr7JCqS1CxvcmH41UgH4bUrYfB3U3idpcz1a7UYU3PjyoDpnobJHgsZ8uD-Kpp%7ERiJXJdPQ%7EY1qFvZsIIcZjKSoGeoRphZbuGDUifuDgJcR6LEYbPn8qDVWG1Vm4-quXd8Cj3rlr4oYoydbXRlXXnOjK-IxGNkKXxfIbYu9-ajwTm95X-rTeLw9cwOuJw__&Key-Pair-Id=K3RPWS32NSSJCE [following]\n",
            "--2024-12-14 12:56:21--  https://cdn-lfs.hf.co/datasets/sentiment140/c9e118101ee75c018f6acfa538e6b2ff098b0281ed97ce6f57548633b318f4ab?response-content-disposition=inline%3B+filename*%3DUTF-8%27%270000.parquet%3B+filename%3D%220000.parquet%22%3B&Expires=1734440181&Policy=eyJTdGF0ZW1lbnQiOlt7IkNvbmRpdGlvbiI6eyJEYXRlTGVzc1RoYW4iOnsiQVdTOkVwb2NoVGltZSI6MTczNDQ0MDE4MX19LCJSZXNvdXJjZSI6Imh0dHBzOi8vY2RuLWxmcy5oZi5jby9kYXRhc2V0cy9zZW50aW1lbnQxNDAvYzllMTE4MTAxZWU3NWMwMThmNmFjZmE1MzhlNmIyZmYwOThiMDI4MWVkOTdjZTZmNTc1NDg2MzNiMzE4ZjRhYj9yZXNwb25zZS1jb250ZW50LWRpc3Bvc2l0aW9uPSoifV19&Signature=B%7E9Sjyzh8cZdoynDOBkxigdhHTRHvypqG54cM6fE9IyFsQkDWILTeeusneu2sSdeE8BaamcAmQyvEXbOm5ZZ6pVyt%7E7bXa%7EFHjbqw5aRrFpEhOKznBYkxV3iBC3d43tacDSkCiShKdeSEvGLp9GHJ8t5PPr7JCqS1CxvcmH41UgH4bUrYfB3U3idpcz1a7UYU3PjyoDpnobJHgsZ8uD-Kpp%7ERiJXJdPQ%7EY1qFvZsIIcZjKSoGeoRphZbuGDUifuDgJcR6LEYbPn8qDVWG1Vm4-quXd8Cj3rlr4oYoydbXRlXXnOjK-IxGNkKXxfIbYu9-ajwTm95X-rTeLw9cwOuJw__&Key-Pair-Id=K3RPWS32NSSJCE\n",
            "Resolving cdn-lfs.hf.co (cdn-lfs.hf.co)... 3.168.132.51, 3.168.132.99, 3.168.132.25, ...\n",
            "Connecting to cdn-lfs.hf.co (cdn-lfs.hf.co)|3.168.132.51|:443... connected.\n",
            "HTTP request sent, awaiting response... 200 OK\n",
            "Length: 123605933 (118M) [binary/octet-stream]\n",
            "Saving to: ‘train.parquet’\n",
            "\n",
            "train.parquet       100%[===================>] 117.88M   219MB/s    in 0.5s    \n",
            "\n",
            "2024-12-14 12:56:21 (219 MB/s) - ‘train.parquet’ saved [123605933/123605933]\n",
            "\n"
          ]
        }
      ]
    },
    {
      "cell_type": "markdown",
      "source": [
        "##Checking Neutral records"
      ],
      "metadata": {
        "id": "A_GayZpLgguv"
      }
    },
    {
      "cell_type": "code",
      "source": [
        "!wget https://huggingface.co/datasets/stanfordnlp/sentiment140/resolve/refs%2Fconvert%2Fparquet/sentiment140/test/0000.parquet -O test.parquet\n",
        "test_df = pd.read_parquet('test.parquet')"
      ],
      "metadata": {
        "colab": {
          "base_uri": "https://localhost:8080/"
        },
        "id": "YiFsu0rV-qsR",
        "outputId": "f90ca24b-744a-4cf6-fbbd-0bca750eb2ee"
      },
      "execution_count": null,
      "outputs": [
        {
          "output_type": "stream",
          "name": "stdout",
          "text": [
            "--2024-12-14 12:56:24--  https://huggingface.co/datasets/stanfordnlp/sentiment140/resolve/refs%2Fconvert%2Fparquet/sentiment140/test/0000.parquet\n",
            "Resolving huggingface.co (huggingface.co)... 18.164.174.23, 18.164.174.17, 18.164.174.55, ...\n",
            "Connecting to huggingface.co (huggingface.co)|18.164.174.23|:443... connected.\n",
            "HTTP request sent, awaiting response... 200 OK\n",
            "Length: 46124 (45K)\n",
            "Saving to: ‘test.parquet’\n",
            "\n",
            "\rtest.parquet          0%[                    ]       0  --.-KB/s               \rtest.parquet        100%[===================>]  45.04K  --.-KB/s    in 0.007s  \n",
            "\n",
            "2024-12-14 12:56:24 (6.09 MB/s) - ‘test.parquet’ saved [46124/46124]\n",
            "\n"
          ]
        }
      ]
    },
    {
      "cell_type": "code",
      "source": [
        "train_df['sentiment'].value_counts()"
      ],
      "metadata": {
        "colab": {
          "base_uri": "https://localhost:8080/",
          "height": 178
        },
        "id": "ajbT10gPAeO5",
        "outputId": "0a41ecbc-08a7-4054-cb95-c0ffb7e1f982"
      },
      "execution_count": null,
      "outputs": [
        {
          "output_type": "execute_result",
          "data": {
            "text/plain": [
              "sentiment\n",
              "0    800000\n",
              "4    800000\n",
              "Name: count, dtype: int64"
            ],
            "text/html": [
              "<div>\n",
              "<style scoped>\n",
              "    .dataframe tbody tr th:only-of-type {\n",
              "        vertical-align: middle;\n",
              "    }\n",
              "\n",
              "    .dataframe tbody tr th {\n",
              "        vertical-align: top;\n",
              "    }\n",
              "\n",
              "    .dataframe thead th {\n",
              "        text-align: right;\n",
              "    }\n",
              "</style>\n",
              "<table border=\"1\" class=\"dataframe\">\n",
              "  <thead>\n",
              "    <tr style=\"text-align: right;\">\n",
              "      <th></th>\n",
              "      <th>count</th>\n",
              "    </tr>\n",
              "    <tr>\n",
              "      <th>sentiment</th>\n",
              "      <th></th>\n",
              "    </tr>\n",
              "  </thead>\n",
              "  <tbody>\n",
              "    <tr>\n",
              "      <th>0</th>\n",
              "      <td>800000</td>\n",
              "    </tr>\n",
              "    <tr>\n",
              "      <th>4</th>\n",
              "      <td>800000</td>\n",
              "    </tr>\n",
              "  </tbody>\n",
              "</table>\n",
              "</div><br><label><b>dtype:</b> int64</label>"
            ]
          },
          "metadata": {},
          "execution_count": 3
        }
      ]
    },
    {
      "cell_type": "code",
      "source": [
        "test_df['sentiment'].value_counts()"
      ],
      "metadata": {
        "colab": {
          "base_uri": "https://localhost:8080/",
          "height": 210
        },
        "id": "UKwSWMe5AeuY",
        "outputId": "ce1f8358-3e20-4dfe-aa58-a4f0b7165426"
      },
      "execution_count": null,
      "outputs": [
        {
          "output_type": "execute_result",
          "data": {
            "text/plain": [
              "sentiment\n",
              "4    182\n",
              "0    177\n",
              "2    139\n",
              "Name: count, dtype: int64"
            ],
            "text/html": [
              "<div>\n",
              "<style scoped>\n",
              "    .dataframe tbody tr th:only-of-type {\n",
              "        vertical-align: middle;\n",
              "    }\n",
              "\n",
              "    .dataframe tbody tr th {\n",
              "        vertical-align: top;\n",
              "    }\n",
              "\n",
              "    .dataframe thead th {\n",
              "        text-align: right;\n",
              "    }\n",
              "</style>\n",
              "<table border=\"1\" class=\"dataframe\">\n",
              "  <thead>\n",
              "    <tr style=\"text-align: right;\">\n",
              "      <th></th>\n",
              "      <th>count</th>\n",
              "    </tr>\n",
              "    <tr>\n",
              "      <th>sentiment</th>\n",
              "      <th></th>\n",
              "    </tr>\n",
              "  </thead>\n",
              "  <tbody>\n",
              "    <tr>\n",
              "      <th>4</th>\n",
              "      <td>182</td>\n",
              "    </tr>\n",
              "    <tr>\n",
              "      <th>0</th>\n",
              "      <td>177</td>\n",
              "    </tr>\n",
              "    <tr>\n",
              "      <th>2</th>\n",
              "      <td>139</td>\n",
              "    </tr>\n",
              "  </tbody>\n",
              "</table>\n",
              "</div><br><label><b>dtype:</b> int64</label>"
            ]
          },
          "metadata": {},
          "execution_count": 5
        }
      ]
    },
    {
      "cell_type": "markdown",
      "source": [
        "##Elimanating Neutral Records"
      ],
      "metadata": {
        "id": "f0GnyWiGgplz"
      }
    },
    {
      "cell_type": "code",
      "source": [
        "test_df = test_df[test_df['sentiment'] != 2]"
      ],
      "metadata": {
        "id": "FqI31SozA1xb"
      },
      "execution_count": null,
      "outputs": []
    },
    {
      "cell_type": "markdown",
      "source": [
        "##Changing Output to 0 for negative tweetsand 1 for positive tweets"
      ],
      "metadata": {
        "id": "ruxNymIvgvBU"
      }
    },
    {
      "cell_type": "code",
      "source": [
        "train_df[\"sentiment\"] = train_df[\"sentiment\"].replace({4: 1})\n",
        "test_df[\"sentiment\"] = test_df[\"sentiment\"].replace({4: 1})"
      ],
      "metadata": {
        "id": "hlMLcG-aBdPk"
      },
      "execution_count": null,
      "outputs": []
    },
    {
      "cell_type": "code",
      "source": [
        "test_df['sentiment'].value_counts()"
      ],
      "metadata": {
        "colab": {
          "base_uri": "https://localhost:8080/",
          "height": 178
        },
        "id": "dsl9iLy9Bg4O",
        "outputId": "d0b117c2-cdc7-48e2-ec76-c8d9536b110e"
      },
      "execution_count": null,
      "outputs": [
        {
          "output_type": "execute_result",
          "data": {
            "text/plain": [
              "sentiment\n",
              "1    182\n",
              "0    177\n",
              "Name: count, dtype: int64"
            ],
            "text/html": [
              "<div>\n",
              "<style scoped>\n",
              "    .dataframe tbody tr th:only-of-type {\n",
              "        vertical-align: middle;\n",
              "    }\n",
              "\n",
              "    .dataframe tbody tr th {\n",
              "        vertical-align: top;\n",
              "    }\n",
              "\n",
              "    .dataframe thead th {\n",
              "        text-align: right;\n",
              "    }\n",
              "</style>\n",
              "<table border=\"1\" class=\"dataframe\">\n",
              "  <thead>\n",
              "    <tr style=\"text-align: right;\">\n",
              "      <th></th>\n",
              "      <th>count</th>\n",
              "    </tr>\n",
              "    <tr>\n",
              "      <th>sentiment</th>\n",
              "      <th></th>\n",
              "    </tr>\n",
              "  </thead>\n",
              "  <tbody>\n",
              "    <tr>\n",
              "      <th>1</th>\n",
              "      <td>182</td>\n",
              "    </tr>\n",
              "    <tr>\n",
              "      <th>0</th>\n",
              "      <td>177</td>\n",
              "    </tr>\n",
              "  </tbody>\n",
              "</table>\n",
              "</div><br><label><b>dtype:</b> int64</label>"
            ]
          },
          "metadata": {},
          "execution_count": 8
        }
      ]
    },
    {
      "cell_type": "markdown",
      "source": [
        "##Dispalying Data before preprocessing"
      ],
      "metadata": {
        "id": "5vw9fOa_g9Xw"
      }
    },
    {
      "cell_type": "code",
      "source": [
        "train_df"
      ],
      "metadata": {
        "colab": {
          "base_uri": "https://localhost:8080/",
          "height": 424
        },
        "id": "gipkSd8CJ1r5",
        "outputId": "e01a0ee2-1624-4cab-84e1-0821982fbd19"
      },
      "execution_count": null,
      "outputs": [
        {
          "output_type": "execute_result",
          "data": {
            "text/plain": [
              "                                                      text  \\\n",
              "0        @switchfoot http://twitpic.com/2y1zl - Awww, t...   \n",
              "1        is upset that he can't update his Facebook by ...   \n",
              "2        @Kenichan I dived many times for the ball. Man...   \n",
              "3          my whole body feels itchy and like its on fire    \n",
              "4        @nationwideclass no, it's not behaving at all....   \n",
              "...                                                    ...   \n",
              "1599995  Just woke up. Having no school is the best fee...   \n",
              "1599996  TheWDB.com - Very cool to hear old Walt interv...   \n",
              "1599997  Are you ready for your MoJo Makeover? Ask me f...   \n",
              "1599998  Happy 38th Birthday to my boo of alll time!!! ...   \n",
              "1599999  happy #charitytuesday @theNSPCC @SparksCharity...   \n",
              "\n",
              "                                 date             user  sentiment     query  \n",
              "0        Mon Apr 06 22:19:45 PDT 2009  _TheSpecialOne_          0  NO_QUERY  \n",
              "1        Mon Apr 06 22:19:49 PDT 2009    scotthamilton          0  NO_QUERY  \n",
              "2        Mon Apr 06 22:19:53 PDT 2009         mattycus          0  NO_QUERY  \n",
              "3        Mon Apr 06 22:19:57 PDT 2009          ElleCTF          0  NO_QUERY  \n",
              "4        Mon Apr 06 22:19:57 PDT 2009           Karoli          0  NO_QUERY  \n",
              "...                               ...              ...        ...       ...  \n",
              "1599995  Tue Jun 16 08:40:49 PDT 2009  AmandaMarie1028          1  NO_QUERY  \n",
              "1599996  Tue Jun 16 08:40:49 PDT 2009      TheWDBoards          1  NO_QUERY  \n",
              "1599997  Tue Jun 16 08:40:49 PDT 2009           bpbabe          1  NO_QUERY  \n",
              "1599998  Tue Jun 16 08:40:49 PDT 2009     tinydiamondz          1  NO_QUERY  \n",
              "1599999  Tue Jun 16 08:40:50 PDT 2009   RyanTrevMorris          1  NO_QUERY  \n",
              "\n",
              "[1600000 rows x 5 columns]"
            ],
            "text/html": [
              "\n",
              "  <div id=\"df-ac1d2e51-b305-4590-8235-ef1b1fb36600\" class=\"colab-df-container\">\n",
              "    <div>\n",
              "<style scoped>\n",
              "    .dataframe tbody tr th:only-of-type {\n",
              "        vertical-align: middle;\n",
              "    }\n",
              "\n",
              "    .dataframe tbody tr th {\n",
              "        vertical-align: top;\n",
              "    }\n",
              "\n",
              "    .dataframe thead th {\n",
              "        text-align: right;\n",
              "    }\n",
              "</style>\n",
              "<table border=\"1\" class=\"dataframe\">\n",
              "  <thead>\n",
              "    <tr style=\"text-align: right;\">\n",
              "      <th></th>\n",
              "      <th>text</th>\n",
              "      <th>date</th>\n",
              "      <th>user</th>\n",
              "      <th>sentiment</th>\n",
              "      <th>query</th>\n",
              "    </tr>\n",
              "  </thead>\n",
              "  <tbody>\n",
              "    <tr>\n",
              "      <th>0</th>\n",
              "      <td>@switchfoot http://twitpic.com/2y1zl - Awww, t...</td>\n",
              "      <td>Mon Apr 06 22:19:45 PDT 2009</td>\n",
              "      <td>_TheSpecialOne_</td>\n",
              "      <td>0</td>\n",
              "      <td>NO_QUERY</td>\n",
              "    </tr>\n",
              "    <tr>\n",
              "      <th>1</th>\n",
              "      <td>is upset that he can't update his Facebook by ...</td>\n",
              "      <td>Mon Apr 06 22:19:49 PDT 2009</td>\n",
              "      <td>scotthamilton</td>\n",
              "      <td>0</td>\n",
              "      <td>NO_QUERY</td>\n",
              "    </tr>\n",
              "    <tr>\n",
              "      <th>2</th>\n",
              "      <td>@Kenichan I dived many times for the ball. Man...</td>\n",
              "      <td>Mon Apr 06 22:19:53 PDT 2009</td>\n",
              "      <td>mattycus</td>\n",
              "      <td>0</td>\n",
              "      <td>NO_QUERY</td>\n",
              "    </tr>\n",
              "    <tr>\n",
              "      <th>3</th>\n",
              "      <td>my whole body feels itchy and like its on fire</td>\n",
              "      <td>Mon Apr 06 22:19:57 PDT 2009</td>\n",
              "      <td>ElleCTF</td>\n",
              "      <td>0</td>\n",
              "      <td>NO_QUERY</td>\n",
              "    </tr>\n",
              "    <tr>\n",
              "      <th>4</th>\n",
              "      <td>@nationwideclass no, it's not behaving at all....</td>\n",
              "      <td>Mon Apr 06 22:19:57 PDT 2009</td>\n",
              "      <td>Karoli</td>\n",
              "      <td>0</td>\n",
              "      <td>NO_QUERY</td>\n",
              "    </tr>\n",
              "    <tr>\n",
              "      <th>...</th>\n",
              "      <td>...</td>\n",
              "      <td>...</td>\n",
              "      <td>...</td>\n",
              "      <td>...</td>\n",
              "      <td>...</td>\n",
              "    </tr>\n",
              "    <tr>\n",
              "      <th>1599995</th>\n",
              "      <td>Just woke up. Having no school is the best fee...</td>\n",
              "      <td>Tue Jun 16 08:40:49 PDT 2009</td>\n",
              "      <td>AmandaMarie1028</td>\n",
              "      <td>1</td>\n",
              "      <td>NO_QUERY</td>\n",
              "    </tr>\n",
              "    <tr>\n",
              "      <th>1599996</th>\n",
              "      <td>TheWDB.com - Very cool to hear old Walt interv...</td>\n",
              "      <td>Tue Jun 16 08:40:49 PDT 2009</td>\n",
              "      <td>TheWDBoards</td>\n",
              "      <td>1</td>\n",
              "      <td>NO_QUERY</td>\n",
              "    </tr>\n",
              "    <tr>\n",
              "      <th>1599997</th>\n",
              "      <td>Are you ready for your MoJo Makeover? Ask me f...</td>\n",
              "      <td>Tue Jun 16 08:40:49 PDT 2009</td>\n",
              "      <td>bpbabe</td>\n",
              "      <td>1</td>\n",
              "      <td>NO_QUERY</td>\n",
              "    </tr>\n",
              "    <tr>\n",
              "      <th>1599998</th>\n",
              "      <td>Happy 38th Birthday to my boo of alll time!!! ...</td>\n",
              "      <td>Tue Jun 16 08:40:49 PDT 2009</td>\n",
              "      <td>tinydiamondz</td>\n",
              "      <td>1</td>\n",
              "      <td>NO_QUERY</td>\n",
              "    </tr>\n",
              "    <tr>\n",
              "      <th>1599999</th>\n",
              "      <td>happy #charitytuesday @theNSPCC @SparksCharity...</td>\n",
              "      <td>Tue Jun 16 08:40:50 PDT 2009</td>\n",
              "      <td>RyanTrevMorris</td>\n",
              "      <td>1</td>\n",
              "      <td>NO_QUERY</td>\n",
              "    </tr>\n",
              "  </tbody>\n",
              "</table>\n",
              "<p>1600000 rows × 5 columns</p>\n",
              "</div>\n",
              "    <div class=\"colab-df-buttons\">\n",
              "\n",
              "  <div class=\"colab-df-container\">\n",
              "    <button class=\"colab-df-convert\" onclick=\"convertToInteractive('df-ac1d2e51-b305-4590-8235-ef1b1fb36600')\"\n",
              "            title=\"Convert this dataframe to an interactive table.\"\n",
              "            style=\"display:none;\">\n",
              "\n",
              "  <svg xmlns=\"http://www.w3.org/2000/svg\" height=\"24px\" viewBox=\"0 -960 960 960\">\n",
              "    <path d=\"M120-120v-720h720v720H120Zm60-500h600v-160H180v160Zm220 220h160v-160H400v160Zm0 220h160v-160H400v160ZM180-400h160v-160H180v160Zm440 0h160v-160H620v160ZM180-180h160v-160H180v160Zm440 0h160v-160H620v160Z\"/>\n",
              "  </svg>\n",
              "    </button>\n",
              "\n",
              "  <style>\n",
              "    .colab-df-container {\n",
              "      display:flex;\n",
              "      gap: 12px;\n",
              "    }\n",
              "\n",
              "    .colab-df-convert {\n",
              "      background-color: #E8F0FE;\n",
              "      border: none;\n",
              "      border-radius: 50%;\n",
              "      cursor: pointer;\n",
              "      display: none;\n",
              "      fill: #1967D2;\n",
              "      height: 32px;\n",
              "      padding: 0 0 0 0;\n",
              "      width: 32px;\n",
              "    }\n",
              "\n",
              "    .colab-df-convert:hover {\n",
              "      background-color: #E2EBFA;\n",
              "      box-shadow: 0px 1px 2px rgba(60, 64, 67, 0.3), 0px 1px 3px 1px rgba(60, 64, 67, 0.15);\n",
              "      fill: #174EA6;\n",
              "    }\n",
              "\n",
              "    .colab-df-buttons div {\n",
              "      margin-bottom: 4px;\n",
              "    }\n",
              "\n",
              "    [theme=dark] .colab-df-convert {\n",
              "      background-color: #3B4455;\n",
              "      fill: #D2E3FC;\n",
              "    }\n",
              "\n",
              "    [theme=dark] .colab-df-convert:hover {\n",
              "      background-color: #434B5C;\n",
              "      box-shadow: 0px 1px 3px 1px rgba(0, 0, 0, 0.15);\n",
              "      filter: drop-shadow(0px 1px 2px rgba(0, 0, 0, 0.3));\n",
              "      fill: #FFFFFF;\n",
              "    }\n",
              "  </style>\n",
              "\n",
              "    <script>\n",
              "      const buttonEl =\n",
              "        document.querySelector('#df-ac1d2e51-b305-4590-8235-ef1b1fb36600 button.colab-df-convert');\n",
              "      buttonEl.style.display =\n",
              "        google.colab.kernel.accessAllowed ? 'block' : 'none';\n",
              "\n",
              "      async function convertToInteractive(key) {\n",
              "        const element = document.querySelector('#df-ac1d2e51-b305-4590-8235-ef1b1fb36600');\n",
              "        const dataTable =\n",
              "          await google.colab.kernel.invokeFunction('convertToInteractive',\n",
              "                                                    [key], {});\n",
              "        if (!dataTable) return;\n",
              "\n",
              "        const docLinkHtml = 'Like what you see? Visit the ' +\n",
              "          '<a target=\"_blank\" href=https://colab.research.google.com/notebooks/data_table.ipynb>data table notebook</a>'\n",
              "          + ' to learn more about interactive tables.';\n",
              "        element.innerHTML = '';\n",
              "        dataTable['output_type'] = 'display_data';\n",
              "        await google.colab.output.renderOutput(dataTable, element);\n",
              "        const docLink = document.createElement('div');\n",
              "        docLink.innerHTML = docLinkHtml;\n",
              "        element.appendChild(docLink);\n",
              "      }\n",
              "    </script>\n",
              "  </div>\n",
              "\n",
              "\n",
              "<div id=\"df-c7550305-0f98-42a3-9cc6-60e0c4309f6d\">\n",
              "  <button class=\"colab-df-quickchart\" onclick=\"quickchart('df-c7550305-0f98-42a3-9cc6-60e0c4309f6d')\"\n",
              "            title=\"Suggest charts\"\n",
              "            style=\"display:none;\">\n",
              "\n",
              "<svg xmlns=\"http://www.w3.org/2000/svg\" height=\"24px\"viewBox=\"0 0 24 24\"\n",
              "     width=\"24px\">\n",
              "    <g>\n",
              "        <path d=\"M19 3H5c-1.1 0-2 .9-2 2v14c0 1.1.9 2 2 2h14c1.1 0 2-.9 2-2V5c0-1.1-.9-2-2-2zM9 17H7v-7h2v7zm4 0h-2V7h2v10zm4 0h-2v-4h2v4z\"/>\n",
              "    </g>\n",
              "</svg>\n",
              "  </button>\n",
              "\n",
              "<style>\n",
              "  .colab-df-quickchart {\n",
              "      --bg-color: #E8F0FE;\n",
              "      --fill-color: #1967D2;\n",
              "      --hover-bg-color: #E2EBFA;\n",
              "      --hover-fill-color: #174EA6;\n",
              "      --disabled-fill-color: #AAA;\n",
              "      --disabled-bg-color: #DDD;\n",
              "  }\n",
              "\n",
              "  [theme=dark] .colab-df-quickchart {\n",
              "      --bg-color: #3B4455;\n",
              "      --fill-color: #D2E3FC;\n",
              "      --hover-bg-color: #434B5C;\n",
              "      --hover-fill-color: #FFFFFF;\n",
              "      --disabled-bg-color: #3B4455;\n",
              "      --disabled-fill-color: #666;\n",
              "  }\n",
              "\n",
              "  .colab-df-quickchart {\n",
              "    background-color: var(--bg-color);\n",
              "    border: none;\n",
              "    border-radius: 50%;\n",
              "    cursor: pointer;\n",
              "    display: none;\n",
              "    fill: var(--fill-color);\n",
              "    height: 32px;\n",
              "    padding: 0;\n",
              "    width: 32px;\n",
              "  }\n",
              "\n",
              "  .colab-df-quickchart:hover {\n",
              "    background-color: var(--hover-bg-color);\n",
              "    box-shadow: 0 1px 2px rgba(60, 64, 67, 0.3), 0 1px 3px 1px rgba(60, 64, 67, 0.15);\n",
              "    fill: var(--button-hover-fill-color);\n",
              "  }\n",
              "\n",
              "  .colab-df-quickchart-complete:disabled,\n",
              "  .colab-df-quickchart-complete:disabled:hover {\n",
              "    background-color: var(--disabled-bg-color);\n",
              "    fill: var(--disabled-fill-color);\n",
              "    box-shadow: none;\n",
              "  }\n",
              "\n",
              "  .colab-df-spinner {\n",
              "    border: 2px solid var(--fill-color);\n",
              "    border-color: transparent;\n",
              "    border-bottom-color: var(--fill-color);\n",
              "    animation:\n",
              "      spin 1s steps(1) infinite;\n",
              "  }\n",
              "\n",
              "  @keyframes spin {\n",
              "    0% {\n",
              "      border-color: transparent;\n",
              "      border-bottom-color: var(--fill-color);\n",
              "      border-left-color: var(--fill-color);\n",
              "    }\n",
              "    20% {\n",
              "      border-color: transparent;\n",
              "      border-left-color: var(--fill-color);\n",
              "      border-top-color: var(--fill-color);\n",
              "    }\n",
              "    30% {\n",
              "      border-color: transparent;\n",
              "      border-left-color: var(--fill-color);\n",
              "      border-top-color: var(--fill-color);\n",
              "      border-right-color: var(--fill-color);\n",
              "    }\n",
              "    40% {\n",
              "      border-color: transparent;\n",
              "      border-right-color: var(--fill-color);\n",
              "      border-top-color: var(--fill-color);\n",
              "    }\n",
              "    60% {\n",
              "      border-color: transparent;\n",
              "      border-right-color: var(--fill-color);\n",
              "    }\n",
              "    80% {\n",
              "      border-color: transparent;\n",
              "      border-right-color: var(--fill-color);\n",
              "      border-bottom-color: var(--fill-color);\n",
              "    }\n",
              "    90% {\n",
              "      border-color: transparent;\n",
              "      border-bottom-color: var(--fill-color);\n",
              "    }\n",
              "  }\n",
              "</style>\n",
              "\n",
              "  <script>\n",
              "    async function quickchart(key) {\n",
              "      const quickchartButtonEl =\n",
              "        document.querySelector('#' + key + ' button');\n",
              "      quickchartButtonEl.disabled = true;  // To prevent multiple clicks.\n",
              "      quickchartButtonEl.classList.add('colab-df-spinner');\n",
              "      try {\n",
              "        const charts = await google.colab.kernel.invokeFunction(\n",
              "            'suggestCharts', [key], {});\n",
              "      } catch (error) {\n",
              "        console.error('Error during call to suggestCharts:', error);\n",
              "      }\n",
              "      quickchartButtonEl.classList.remove('colab-df-spinner');\n",
              "      quickchartButtonEl.classList.add('colab-df-quickchart-complete');\n",
              "    }\n",
              "    (() => {\n",
              "      let quickchartButtonEl =\n",
              "        document.querySelector('#df-c7550305-0f98-42a3-9cc6-60e0c4309f6d button');\n",
              "      quickchartButtonEl.style.display =\n",
              "        google.colab.kernel.accessAllowed ? 'block' : 'none';\n",
              "    })();\n",
              "  </script>\n",
              "</div>\n",
              "\n",
              "  <div id=\"id_4683af26-25e5-4b87-bf08-de56e3e65452\">\n",
              "    <style>\n",
              "      .colab-df-generate {\n",
              "        background-color: #E8F0FE;\n",
              "        border: none;\n",
              "        border-radius: 50%;\n",
              "        cursor: pointer;\n",
              "        display: none;\n",
              "        fill: #1967D2;\n",
              "        height: 32px;\n",
              "        padding: 0 0 0 0;\n",
              "        width: 32px;\n",
              "      }\n",
              "\n",
              "      .colab-df-generate:hover {\n",
              "        background-color: #E2EBFA;\n",
              "        box-shadow: 0px 1px 2px rgba(60, 64, 67, 0.3), 0px 1px 3px 1px rgba(60, 64, 67, 0.15);\n",
              "        fill: #174EA6;\n",
              "      }\n",
              "\n",
              "      [theme=dark] .colab-df-generate {\n",
              "        background-color: #3B4455;\n",
              "        fill: #D2E3FC;\n",
              "      }\n",
              "\n",
              "      [theme=dark] .colab-df-generate:hover {\n",
              "        background-color: #434B5C;\n",
              "        box-shadow: 0px 1px 3px 1px rgba(0, 0, 0, 0.15);\n",
              "        filter: drop-shadow(0px 1px 2px rgba(0, 0, 0, 0.3));\n",
              "        fill: #FFFFFF;\n",
              "      }\n",
              "    </style>\n",
              "    <button class=\"colab-df-generate\" onclick=\"generateWithVariable('train_df')\"\n",
              "            title=\"Generate code using this dataframe.\"\n",
              "            style=\"display:none;\">\n",
              "\n",
              "  <svg xmlns=\"http://www.w3.org/2000/svg\" height=\"24px\"viewBox=\"0 0 24 24\"\n",
              "       width=\"24px\">\n",
              "    <path d=\"M7,19H8.4L18.45,9,17,7.55,7,17.6ZM5,21V16.75L18.45,3.32a2,2,0,0,1,2.83,0l1.4,1.43a1.91,1.91,0,0,1,.58,1.4,1.91,1.91,0,0,1-.58,1.4L9.25,21ZM18.45,9,17,7.55Zm-12,3A5.31,5.31,0,0,0,4.9,8.1,5.31,5.31,0,0,0,1,6.5,5.31,5.31,0,0,0,4.9,4.9,5.31,5.31,0,0,0,6.5,1,5.31,5.31,0,0,0,8.1,4.9,5.31,5.31,0,0,0,12,6.5,5.46,5.46,0,0,0,6.5,12Z\"/>\n",
              "  </svg>\n",
              "    </button>\n",
              "    <script>\n",
              "      (() => {\n",
              "      const buttonEl =\n",
              "        document.querySelector('#id_4683af26-25e5-4b87-bf08-de56e3e65452 button.colab-df-generate');\n",
              "      buttonEl.style.display =\n",
              "        google.colab.kernel.accessAllowed ? 'block' : 'none';\n",
              "\n",
              "      buttonEl.onclick = () => {\n",
              "        google.colab.notebook.generateWithVariable('train_df');\n",
              "      }\n",
              "      })();\n",
              "    </script>\n",
              "  </div>\n",
              "\n",
              "    </div>\n",
              "  </div>\n"
            ],
            "application/vnd.google.colaboratory.intrinsic+json": {
              "type": "dataframe",
              "variable_name": "train_df"
            }
          },
          "metadata": {},
          "execution_count": 9
        }
      ]
    },
    {
      "cell_type": "markdown",
      "source": [
        "##Preprocessing Functions"
      ],
      "metadata": {
        "id": "-0iaeRTwhD6O"
      }
    },
    {
      "cell_type": "code",
      "source": [
        "nltk.download('punkt')\n",
        "nltk.download('stopwords')\n",
        "nltk.download('wordnet')\n",
        "nltk.download('omw-1.4')\n",
        "nltk.download('punkt_tab')\n",
        "\n",
        "stop_words = set(stopwords.words('english'))\n",
        "lemmatizer = WordNetLemmatizer()\n",
        "tweet_tokenizer = TweetTokenizer()\n",
        "\n",
        "def remove_punc(text):\n",
        "    text = re.sub(r'\\[.*?\\]', '', text)\n",
        "    text = re.sub(r'https?://\\S+|www\\.\\S+', '', text)\n",
        "    text = re.sub(r'<.*?>+', '', text)\n",
        "    text = re.sub(r'[%s]' % re.escape(string.punctuation), '', text)\n",
        "    text = re.sub(r'\\n', '', text)\n",
        "    text = re.sub(r'\\w*\\d\\w*', '', text)\n",
        "    return text\n",
        "\n",
        "def remove_stopwords(text):\n",
        "    words = [word for word in word_tokenize(text) if word not in stop_words]\n",
        "    return \" \".join(words)\n",
        "\n",
        "def lemmatize(text):\n",
        "    words = [lemmatizer.lemmatize(word) for word in word_tokenize(text)]\n",
        "    return \" \".join(words)\n",
        "\n",
        "def remove_mentions_rt(text):\n",
        "    text = re.sub(r'@\\w+', '', text)  # Remove mentions\n",
        "    text = re.sub(r'\\bRT\\b', '', text)  # Remove retweet indicators\n",
        "    return text\n",
        "\n",
        "def normalize_repeated(text):\n",
        "    return re.sub(r'(.)\\1{2,}', r'\\1\\1', text)  # Replace \"goooood\" with \"good\"\n",
        "\n",
        "def handle_hashtags(text):\n",
        "    return re.sub(r'#(\\w+)', r'\\1', text)  # Convert \"#Happy\" to \"Happy\"\n",
        "\n",
        "def remove_emojis(text):\n",
        "    return emoji.replace_emoji(text, replace=\"\")\n",
        "\n",
        "def expand_slang(text):\n",
        "    slang_dict = {\"u\": \"you\", \"ur\": \"your\", \"gr8\": \"great\"}\n",
        "    return ' '.join([slang_dict.get(word, word) for word in text.split()])\n",
        "\n",
        "def preprocess(text_col):\n",
        "    text_col = text_col.apply(remove_punc)\n",
        "    text_col = text_col.apply(remove_mentions_rt)\n",
        "    text_col = text_col.apply(normalize_repeated)\n",
        "    text_col = text_col.apply(handle_hashtags)\n",
        "    text_col = text_col.apply(remove_emojis)\n",
        "    text_col = text_col.apply(expand_slang)\n",
        "    text_col = text_col.apply(lambda x: x.lower())\n",
        "    text_col = text_col.apply(remove_stopwords)\n",
        "    text_col = text_col.apply(lemmatize)\n",
        "    return text_col"
      ],
      "metadata": {
        "colab": {
          "base_uri": "https://localhost:8080/"
        },
        "id": "naG2x-JbBiiD",
        "outputId": "8c4ab942-8a6d-4fea-984d-7570732401b8"
      },
      "execution_count": null,
      "outputs": [
        {
          "output_type": "stream",
          "name": "stderr",
          "text": [
            "[nltk_data] Downloading package punkt to /root/nltk_data...\n",
            "[nltk_data]   Package punkt is already up-to-date!\n",
            "[nltk_data] Downloading package stopwords to /root/nltk_data...\n",
            "[nltk_data]   Package stopwords is already up-to-date!\n",
            "[nltk_data] Downloading package wordnet to /root/nltk_data...\n",
            "[nltk_data]   Package wordnet is already up-to-date!\n",
            "[nltk_data] Downloading package omw-1.4 to /root/nltk_data...\n",
            "[nltk_data]   Package omw-1.4 is already up-to-date!\n",
            "[nltk_data] Downloading package punkt_tab to /root/nltk_data...\n",
            "[nltk_data]   Package punkt_tab is already up-to-date!\n"
          ]
        }
      ]
    },
    {
      "cell_type": "markdown",
      "source": [
        "##Taking half of the dataset as a random sample"
      ],
      "metadata": {
        "id": "dQp17SWWhH_B"
      }
    },
    {
      "cell_type": "code",
      "source": [
        "train_df = train_df.sample(frac=0.5, random_state=42)"
      ],
      "metadata": {
        "id": "gym47f9ab69I"
      },
      "execution_count": null,
      "outputs": []
    },
    {
      "cell_type": "markdown",
      "source": [
        "## Call preprocess function"
      ],
      "metadata": {
        "id": "WVttDCrchSZt"
      }
    },
    {
      "cell_type": "code",
      "source": [
        "train_df[\"text\"] = preprocess(train_df[\"text\"])\n",
        "test_df[\"text\"] = preprocess(test_df[\"text\"])"
      ],
      "metadata": {
        "id": "ysZ3nwIFBxQS"
      },
      "execution_count": null,
      "outputs": []
    },
    {
      "cell_type": "markdown",
      "source": [
        "# ...................."
      ],
      "metadata": {
        "id": "1oZPdINxsl46"
      }
    },
    {
      "cell_type": "code",
      "source": [
        "# Mount Google Drive\n",
        "from google.colab import drive\n",
        "drive.mount('/content/drive')\n"
      ],
      "metadata": {
        "colab": {
          "base_uri": "https://localhost:8080/",
          "height": 0
        },
        "id": "xThm_2QEsrQe",
        "outputId": "69c7db06-7af5-452d-98ce-c1b936f2a2f0"
      },
      "execution_count": 2,
      "outputs": [
        {
          "output_type": "stream",
          "name": "stdout",
          "text": [
            "Mounted at /content/drive\n"
          ]
        }
      ]
    },
    {
      "cell_type": "markdown",
      "source": [
        "#Saving the preprocessed data to drive because it takes time to rerun preprocessing function"
      ],
      "metadata": {
        "id": "_2gbPKF4hgZm"
      }
    },
    {
      "cell_type": "code",
      "source": [
        "train_df.to_parquet('train_preprocessed.parquet', index=False)\n",
        "test_df.to_parquet('test_preprocessed.parquet', index=False)"
      ],
      "metadata": {
        "id": "KvUJ_DhDNH-_"
      },
      "execution_count": null,
      "outputs": []
    },
    {
      "cell_type": "markdown",
      "source": [
        "## Uploading Preprocessed data from drive"
      ],
      "metadata": {
        "id": "siScQdvghqdO"
      }
    },
    {
      "cell_type": "code",
      "source": [
        "\n",
        "\n",
        "train_df = pd.read_parquet('/content/drive/MyDrive/DL ASS2/train_preprocessed.parquet')\n",
        "test_df = pd.read_parquet('/content/drive/MyDrive/DL ASS2/test_preprocessed.parquet')\n",
        "\n",
        "print(train_df.head())\n",
        "print(test_df.head())"
      ],
      "metadata": {
        "id": "PqjtMkxJsnv9",
        "colab": {
          "base_uri": "https://localhost:8080/",
          "height": 0
        },
        "collapsed": true,
        "outputId": "ffd92855-3649-4ac0-a39b-207c8e268a2a"
      },
      "execution_count": 3,
      "outputs": [
        {
          "output_type": "stream",
          "name": "stdout",
          "text": [
            "                                                text  \\\n",
            "0                          chrishasboobs ahh hope ok   \n",
            "1                 misstoriblack cool tweet apps razr   \n",
            "2  tiannachaos know family drama lamehey next tim...   \n",
            "3  school email wont open geography stuff revise ...   \n",
            "4                               upper airway problem   \n",
            "\n",
            "                           date             user  sentiment     query  \n",
            "0  Tue Jun 16 18:18:12 PDT 2009  LaLaLindsey0609          0  NO_QUERY  \n",
            "1  Mon Apr 06 23:11:14 PDT 2009      sexygrneyes          0  NO_QUERY  \n",
            "2  Tue Jun 23 13:40:11 PDT 2009       sammydearr          0  NO_QUERY  \n",
            "3  Mon Jun 01 10:26:07 PDT 2009      Lamb_Leanne          0  NO_QUERY  \n",
            "4  Sat Jun 20 12:56:51 PDT 2009      yogicerdito          0  NO_QUERY  \n",
            "                                                text  \\\n",
            "0        stellargirl loovvee dx cool fantastic right   \n",
            "1                   reading love lee child good read   \n",
            "2                    ok first assesment fucking rock   \n",
            "3  kenburbary youll love ive mine month never loo...   \n",
            "4                 mikefish fair enough think perfect   \n",
            "\n",
            "                           date      user  sentiment    query  \n",
            "0  Mon May 11 03:17:40 UTC 2009    tpryan          1  kindle2  \n",
            "1  Mon May 11 03:18:03 UTC 2009    vcu451          1  kindle2  \n",
            "2  Mon May 11 03:18:54 UTC 2009    chadfu          1  kindle2  \n",
            "3  Mon May 11 03:19:04 UTC 2009     SIX15          1  kindle2  \n",
            "4  Mon May 11 03:21:41 UTC 2009  yamarama          1  kindle2  \n"
          ]
        }
      ]
    },
    {
      "cell_type": "markdown",
      "source": [
        "##Dropping useless columns"
      ],
      "metadata": {
        "id": "9xn1--6ohvXB"
      }
    },
    {
      "cell_type": "code",
      "source": [
        "train_df.drop(columns=[\"date\" , \"user\" , \"query\"], inplace = True)\n",
        "test_df.drop(columns=[\"date\" , \"user\" , \"query\"], inplace = True)"
      ],
      "metadata": {
        "id": "JJpl2Mj3Qu8I"
      },
      "execution_count": 4,
      "outputs": []
    },
    {
      "cell_type": "markdown",
      "source": [
        "##Resetting indexes after columns dropping"
      ],
      "metadata": {
        "id": "iR0Q3E6OhyC_"
      }
    },
    {
      "cell_type": "code",
      "source": [
        "train_df.reset_index(drop=True, inplace=True)\n",
        "test_df.reset_index(drop=True, inplace=True)"
      ],
      "metadata": {
        "id": "DQAqlNNnRR64"
      },
      "execution_count": 5,
      "outputs": []
    },
    {
      "cell_type": "markdown",
      "source": [
        "##Final data"
      ],
      "metadata": {
        "id": "z35G45ETh3o9"
      }
    },
    {
      "cell_type": "code",
      "source": [
        "test_df"
      ],
      "metadata": {
        "colab": {
          "base_uri": "https://localhost:8080/",
          "height": 424
        },
        "id": "a52pBwcwPqax",
        "outputId": "7c64c859-8baf-46b9-87bb-7044aef9f4e3"
      },
      "execution_count": 6,
      "outputs": [
        {
          "output_type": "execute_result",
          "data": {
            "text/plain": [
              "                                                  text  sentiment\n",
              "0          stellargirl loovvee dx cool fantastic right          1\n",
              "1                     reading love lee child good read          1\n",
              "2                      ok first assesment fucking rock          1\n",
              "3    kenburbary youll love ive mine month never loo...          1\n",
              "4                   mikefish fair enough think perfect          1\n",
              "..                                                 ...        ...\n",
              "354   using latex lot typeset mathematics look hideous          1\n",
              "355  note hate word hate page hate latex said hate ...          0\n",
              "356       ahh back real text editing environment latex          1\n",
              "357  trouble iran see hmm iran iran far away flocko...          0\n",
              "358  reading tweet coming iran whole thing terrifyi...          0\n",
              "\n",
              "[359 rows x 2 columns]"
            ],
            "text/html": [
              "\n",
              "  <div id=\"df-445198f8-faaa-4c70-8423-19231672ad64\" class=\"colab-df-container\">\n",
              "    <div>\n",
              "<style scoped>\n",
              "    .dataframe tbody tr th:only-of-type {\n",
              "        vertical-align: middle;\n",
              "    }\n",
              "\n",
              "    .dataframe tbody tr th {\n",
              "        vertical-align: top;\n",
              "    }\n",
              "\n",
              "    .dataframe thead th {\n",
              "        text-align: right;\n",
              "    }\n",
              "</style>\n",
              "<table border=\"1\" class=\"dataframe\">\n",
              "  <thead>\n",
              "    <tr style=\"text-align: right;\">\n",
              "      <th></th>\n",
              "      <th>text</th>\n",
              "      <th>sentiment</th>\n",
              "    </tr>\n",
              "  </thead>\n",
              "  <tbody>\n",
              "    <tr>\n",
              "      <th>0</th>\n",
              "      <td>stellargirl loovvee dx cool fantastic right</td>\n",
              "      <td>1</td>\n",
              "    </tr>\n",
              "    <tr>\n",
              "      <th>1</th>\n",
              "      <td>reading love lee child good read</td>\n",
              "      <td>1</td>\n",
              "    </tr>\n",
              "    <tr>\n",
              "      <th>2</th>\n",
              "      <td>ok first assesment fucking rock</td>\n",
              "      <td>1</td>\n",
              "    </tr>\n",
              "    <tr>\n",
              "      <th>3</th>\n",
              "      <td>kenburbary youll love ive mine month never loo...</td>\n",
              "      <td>1</td>\n",
              "    </tr>\n",
              "    <tr>\n",
              "      <th>4</th>\n",
              "      <td>mikefish fair enough think perfect</td>\n",
              "      <td>1</td>\n",
              "    </tr>\n",
              "    <tr>\n",
              "      <th>...</th>\n",
              "      <td>...</td>\n",
              "      <td>...</td>\n",
              "    </tr>\n",
              "    <tr>\n",
              "      <th>354</th>\n",
              "      <td>using latex lot typeset mathematics look hideous</td>\n",
              "      <td>1</td>\n",
              "    </tr>\n",
              "    <tr>\n",
              "      <th>355</th>\n",
              "      <td>note hate word hate page hate latex said hate ...</td>\n",
              "      <td>0</td>\n",
              "    </tr>\n",
              "    <tr>\n",
              "      <th>356</th>\n",
              "      <td>ahh back real text editing environment latex</td>\n",
              "      <td>1</td>\n",
              "    </tr>\n",
              "    <tr>\n",
              "      <th>357</th>\n",
              "      <td>trouble iran see hmm iran iran far away flocko...</td>\n",
              "      <td>0</td>\n",
              "    </tr>\n",
              "    <tr>\n",
              "      <th>358</th>\n",
              "      <td>reading tweet coming iran whole thing terrifyi...</td>\n",
              "      <td>0</td>\n",
              "    </tr>\n",
              "  </tbody>\n",
              "</table>\n",
              "<p>359 rows × 2 columns</p>\n",
              "</div>\n",
              "    <div class=\"colab-df-buttons\">\n",
              "\n",
              "  <div class=\"colab-df-container\">\n",
              "    <button class=\"colab-df-convert\" onclick=\"convertToInteractive('df-445198f8-faaa-4c70-8423-19231672ad64')\"\n",
              "            title=\"Convert this dataframe to an interactive table.\"\n",
              "            style=\"display:none;\">\n",
              "\n",
              "  <svg xmlns=\"http://www.w3.org/2000/svg\" height=\"24px\" viewBox=\"0 -960 960 960\">\n",
              "    <path d=\"M120-120v-720h720v720H120Zm60-500h600v-160H180v160Zm220 220h160v-160H400v160Zm0 220h160v-160H400v160ZM180-400h160v-160H180v160Zm440 0h160v-160H620v160ZM180-180h160v-160H180v160Zm440 0h160v-160H620v160Z\"/>\n",
              "  </svg>\n",
              "    </button>\n",
              "\n",
              "  <style>\n",
              "    .colab-df-container {\n",
              "      display:flex;\n",
              "      gap: 12px;\n",
              "    }\n",
              "\n",
              "    .colab-df-convert {\n",
              "      background-color: #E8F0FE;\n",
              "      border: none;\n",
              "      border-radius: 50%;\n",
              "      cursor: pointer;\n",
              "      display: none;\n",
              "      fill: #1967D2;\n",
              "      height: 32px;\n",
              "      padding: 0 0 0 0;\n",
              "      width: 32px;\n",
              "    }\n",
              "\n",
              "    .colab-df-convert:hover {\n",
              "      background-color: #E2EBFA;\n",
              "      box-shadow: 0px 1px 2px rgba(60, 64, 67, 0.3), 0px 1px 3px 1px rgba(60, 64, 67, 0.15);\n",
              "      fill: #174EA6;\n",
              "    }\n",
              "\n",
              "    .colab-df-buttons div {\n",
              "      margin-bottom: 4px;\n",
              "    }\n",
              "\n",
              "    [theme=dark] .colab-df-convert {\n",
              "      background-color: #3B4455;\n",
              "      fill: #D2E3FC;\n",
              "    }\n",
              "\n",
              "    [theme=dark] .colab-df-convert:hover {\n",
              "      background-color: #434B5C;\n",
              "      box-shadow: 0px 1px 3px 1px rgba(0, 0, 0, 0.15);\n",
              "      filter: drop-shadow(0px 1px 2px rgba(0, 0, 0, 0.3));\n",
              "      fill: #FFFFFF;\n",
              "    }\n",
              "  </style>\n",
              "\n",
              "    <script>\n",
              "      const buttonEl =\n",
              "        document.querySelector('#df-445198f8-faaa-4c70-8423-19231672ad64 button.colab-df-convert');\n",
              "      buttonEl.style.display =\n",
              "        google.colab.kernel.accessAllowed ? 'block' : 'none';\n",
              "\n",
              "      async function convertToInteractive(key) {\n",
              "        const element = document.querySelector('#df-445198f8-faaa-4c70-8423-19231672ad64');\n",
              "        const dataTable =\n",
              "          await google.colab.kernel.invokeFunction('convertToInteractive',\n",
              "                                                    [key], {});\n",
              "        if (!dataTable) return;\n",
              "\n",
              "        const docLinkHtml = 'Like what you see? Visit the ' +\n",
              "          '<a target=\"_blank\" href=https://colab.research.google.com/notebooks/data_table.ipynb>data table notebook</a>'\n",
              "          + ' to learn more about interactive tables.';\n",
              "        element.innerHTML = '';\n",
              "        dataTable['output_type'] = 'display_data';\n",
              "        await google.colab.output.renderOutput(dataTable, element);\n",
              "        const docLink = document.createElement('div');\n",
              "        docLink.innerHTML = docLinkHtml;\n",
              "        element.appendChild(docLink);\n",
              "      }\n",
              "    </script>\n",
              "  </div>\n",
              "\n",
              "\n",
              "<div id=\"df-f31b30e0-db33-4980-b616-e841b26d7969\">\n",
              "  <button class=\"colab-df-quickchart\" onclick=\"quickchart('df-f31b30e0-db33-4980-b616-e841b26d7969')\"\n",
              "            title=\"Suggest charts\"\n",
              "            style=\"display:none;\">\n",
              "\n",
              "<svg xmlns=\"http://www.w3.org/2000/svg\" height=\"24px\"viewBox=\"0 0 24 24\"\n",
              "     width=\"24px\">\n",
              "    <g>\n",
              "        <path d=\"M19 3H5c-1.1 0-2 .9-2 2v14c0 1.1.9 2 2 2h14c1.1 0 2-.9 2-2V5c0-1.1-.9-2-2-2zM9 17H7v-7h2v7zm4 0h-2V7h2v10zm4 0h-2v-4h2v4z\"/>\n",
              "    </g>\n",
              "</svg>\n",
              "  </button>\n",
              "\n",
              "<style>\n",
              "  .colab-df-quickchart {\n",
              "      --bg-color: #E8F0FE;\n",
              "      --fill-color: #1967D2;\n",
              "      --hover-bg-color: #E2EBFA;\n",
              "      --hover-fill-color: #174EA6;\n",
              "      --disabled-fill-color: #AAA;\n",
              "      --disabled-bg-color: #DDD;\n",
              "  }\n",
              "\n",
              "  [theme=dark] .colab-df-quickchart {\n",
              "      --bg-color: #3B4455;\n",
              "      --fill-color: #D2E3FC;\n",
              "      --hover-bg-color: #434B5C;\n",
              "      --hover-fill-color: #FFFFFF;\n",
              "      --disabled-bg-color: #3B4455;\n",
              "      --disabled-fill-color: #666;\n",
              "  }\n",
              "\n",
              "  .colab-df-quickchart {\n",
              "    background-color: var(--bg-color);\n",
              "    border: none;\n",
              "    border-radius: 50%;\n",
              "    cursor: pointer;\n",
              "    display: none;\n",
              "    fill: var(--fill-color);\n",
              "    height: 32px;\n",
              "    padding: 0;\n",
              "    width: 32px;\n",
              "  }\n",
              "\n",
              "  .colab-df-quickchart:hover {\n",
              "    background-color: var(--hover-bg-color);\n",
              "    box-shadow: 0 1px 2px rgba(60, 64, 67, 0.3), 0 1px 3px 1px rgba(60, 64, 67, 0.15);\n",
              "    fill: var(--button-hover-fill-color);\n",
              "  }\n",
              "\n",
              "  .colab-df-quickchart-complete:disabled,\n",
              "  .colab-df-quickchart-complete:disabled:hover {\n",
              "    background-color: var(--disabled-bg-color);\n",
              "    fill: var(--disabled-fill-color);\n",
              "    box-shadow: none;\n",
              "  }\n",
              "\n",
              "  .colab-df-spinner {\n",
              "    border: 2px solid var(--fill-color);\n",
              "    border-color: transparent;\n",
              "    border-bottom-color: var(--fill-color);\n",
              "    animation:\n",
              "      spin 1s steps(1) infinite;\n",
              "  }\n",
              "\n",
              "  @keyframes spin {\n",
              "    0% {\n",
              "      border-color: transparent;\n",
              "      border-bottom-color: var(--fill-color);\n",
              "      border-left-color: var(--fill-color);\n",
              "    }\n",
              "    20% {\n",
              "      border-color: transparent;\n",
              "      border-left-color: var(--fill-color);\n",
              "      border-top-color: var(--fill-color);\n",
              "    }\n",
              "    30% {\n",
              "      border-color: transparent;\n",
              "      border-left-color: var(--fill-color);\n",
              "      border-top-color: var(--fill-color);\n",
              "      border-right-color: var(--fill-color);\n",
              "    }\n",
              "    40% {\n",
              "      border-color: transparent;\n",
              "      border-right-color: var(--fill-color);\n",
              "      border-top-color: var(--fill-color);\n",
              "    }\n",
              "    60% {\n",
              "      border-color: transparent;\n",
              "      border-right-color: var(--fill-color);\n",
              "    }\n",
              "    80% {\n",
              "      border-color: transparent;\n",
              "      border-right-color: var(--fill-color);\n",
              "      border-bottom-color: var(--fill-color);\n",
              "    }\n",
              "    90% {\n",
              "      border-color: transparent;\n",
              "      border-bottom-color: var(--fill-color);\n",
              "    }\n",
              "  }\n",
              "</style>\n",
              "\n",
              "  <script>\n",
              "    async function quickchart(key) {\n",
              "      const quickchartButtonEl =\n",
              "        document.querySelector('#' + key + ' button');\n",
              "      quickchartButtonEl.disabled = true;  // To prevent multiple clicks.\n",
              "      quickchartButtonEl.classList.add('colab-df-spinner');\n",
              "      try {\n",
              "        const charts = await google.colab.kernel.invokeFunction(\n",
              "            'suggestCharts', [key], {});\n",
              "      } catch (error) {\n",
              "        console.error('Error during call to suggestCharts:', error);\n",
              "      }\n",
              "      quickchartButtonEl.classList.remove('colab-df-spinner');\n",
              "      quickchartButtonEl.classList.add('colab-df-quickchart-complete');\n",
              "    }\n",
              "    (() => {\n",
              "      let quickchartButtonEl =\n",
              "        document.querySelector('#df-f31b30e0-db33-4980-b616-e841b26d7969 button');\n",
              "      quickchartButtonEl.style.display =\n",
              "        google.colab.kernel.accessAllowed ? 'block' : 'none';\n",
              "    })();\n",
              "  </script>\n",
              "</div>\n",
              "\n",
              "  <div id=\"id_bf1032c9-db44-48b2-a950-e9982e8932bd\">\n",
              "    <style>\n",
              "      .colab-df-generate {\n",
              "        background-color: #E8F0FE;\n",
              "        border: none;\n",
              "        border-radius: 50%;\n",
              "        cursor: pointer;\n",
              "        display: none;\n",
              "        fill: #1967D2;\n",
              "        height: 32px;\n",
              "        padding: 0 0 0 0;\n",
              "        width: 32px;\n",
              "      }\n",
              "\n",
              "      .colab-df-generate:hover {\n",
              "        background-color: #E2EBFA;\n",
              "        box-shadow: 0px 1px 2px rgba(60, 64, 67, 0.3), 0px 1px 3px 1px rgba(60, 64, 67, 0.15);\n",
              "        fill: #174EA6;\n",
              "      }\n",
              "\n",
              "      [theme=dark] .colab-df-generate {\n",
              "        background-color: #3B4455;\n",
              "        fill: #D2E3FC;\n",
              "      }\n",
              "\n",
              "      [theme=dark] .colab-df-generate:hover {\n",
              "        background-color: #434B5C;\n",
              "        box-shadow: 0px 1px 3px 1px rgba(0, 0, 0, 0.15);\n",
              "        filter: drop-shadow(0px 1px 2px rgba(0, 0, 0, 0.3));\n",
              "        fill: #FFFFFF;\n",
              "      }\n",
              "    </style>\n",
              "    <button class=\"colab-df-generate\" onclick=\"generateWithVariable('test_df')\"\n",
              "            title=\"Generate code using this dataframe.\"\n",
              "            style=\"display:none;\">\n",
              "\n",
              "  <svg xmlns=\"http://www.w3.org/2000/svg\" height=\"24px\"viewBox=\"0 0 24 24\"\n",
              "       width=\"24px\">\n",
              "    <path d=\"M7,19H8.4L18.45,9,17,7.55,7,17.6ZM5,21V16.75L18.45,3.32a2,2,0,0,1,2.83,0l1.4,1.43a1.91,1.91,0,0,1,.58,1.4,1.91,1.91,0,0,1-.58,1.4L9.25,21ZM18.45,9,17,7.55Zm-12,3A5.31,5.31,0,0,0,4.9,8.1,5.31,5.31,0,0,0,1,6.5,5.31,5.31,0,0,0,4.9,4.9,5.31,5.31,0,0,0,6.5,1,5.31,5.31,0,0,0,8.1,4.9,5.31,5.31,0,0,0,12,6.5,5.46,5.46,0,0,0,6.5,12Z\"/>\n",
              "  </svg>\n",
              "    </button>\n",
              "    <script>\n",
              "      (() => {\n",
              "      const buttonEl =\n",
              "        document.querySelector('#id_bf1032c9-db44-48b2-a950-e9982e8932bd button.colab-df-generate');\n",
              "      buttonEl.style.display =\n",
              "        google.colab.kernel.accessAllowed ? 'block' : 'none';\n",
              "\n",
              "      buttonEl.onclick = () => {\n",
              "        google.colab.notebook.generateWithVariable('test_df');\n",
              "      }\n",
              "      })();\n",
              "    </script>\n",
              "  </div>\n",
              "\n",
              "    </div>\n",
              "  </div>\n"
            ],
            "application/vnd.google.colaboratory.intrinsic+json": {
              "type": "dataframe",
              "variable_name": "test_df",
              "summary": "{\n  \"name\": \"test_df\",\n  \"rows\": 359,\n  \"fields\": [\n    {\n      \"column\": \"text\",\n      \"properties\": {\n        \"dtype\": \"string\",\n        \"num_unique_values\": 359,\n        \"samples\": [\n          \"domm comcast fail\",\n          \"obama administration must stop bonus aig ponzi schemer\",\n          \"never buy government motor vehicle recently drove gm car since bought\"\n        ],\n        \"semantic_type\": \"\",\n        \"description\": \"\"\n      }\n    },\n    {\n      \"column\": \"sentiment\",\n      \"properties\": {\n        \"dtype\": \"int32\",\n        \"num_unique_values\": 2,\n        \"samples\": [\n          0,\n          1\n        ],\n        \"semantic_type\": \"\",\n        \"description\": \"\"\n      }\n    }\n  ]\n}"
            }
          },
          "metadata": {},
          "execution_count": 6
        }
      ]
    },
    {
      "cell_type": "markdown",
      "source": [
        "##Calling Text Vectorizer and applying it to XTrain and XTest which are texts and doing the train test splitting"
      ],
      "metadata": {
        "id": "HTQyNsyfh5vo"
      }
    },
    {
      "cell_type": "code",
      "source": [
        "max_len = 100\n",
        "\n",
        "vectorizer = TextVectorization(standardize=None, output_sequence_length=max_len)\n",
        "\n",
        "vectorizer.adapt(train_df[\"text\"].values)\n",
        "\n",
        "X_train = vectorizer(train_df[\"text\"]).numpy()\n",
        "X_test = vectorizer(test_df[\"text\"]).numpy()\n",
        "\n",
        "y_train = train_df[\"sentiment\"].values\n",
        "y_test = test_df[\"sentiment\"].values"
      ],
      "metadata": {
        "id": "WBTi9IvHB9D-"
      },
      "execution_count": 7,
      "outputs": []
    },
    {
      "cell_type": "markdown",
      "source": [
        "## Getting the Vocabulary from the Vectorizer and checking its size"
      ],
      "metadata": {
        "id": "Uct1D-9xiKWC"
      }
    },
    {
      "cell_type": "code",
      "source": [
        "vocab = vectorizer.get_vocabulary()\n",
        "print(vocab[:10])\n",
        "\n",
        "VOCAB_SIZE = len(vocab)\n",
        "print(VOCAB_SIZE) # unique tokens + 2"
      ],
      "metadata": {
        "colab": {
          "base_uri": "https://localhost:8080/",
          "height": 0
        },
        "id": "VNuI-bpoC3Dv",
        "outputId": "9797a79b-bbd4-4520-b00c-1cc1abbf60c6"
      },
      "execution_count": 8,
      "outputs": [
        {
          "output_type": "stream",
          "name": "stdout",
          "text": [
            "['', '[UNK]', 'im', 'day', 'good', 'get', 'like', 'go', 'got', 'dont']\n",
            "414196\n"
          ]
        }
      ]
    },
    {
      "cell_type": "markdown",
      "source": [
        "## First Model (Trainable Word Embeddings)"
      ],
      "metadata": {
        "id": "cQ9FSHYqxSj9"
      }
    },
    {
      "cell_type": "code",
      "source": [
        "from tensorflow.keras.regularizers import l2\n",
        "\n",
        "embedding_dim = 50\n",
        "\n",
        "model1 = Sequential([\n",
        "    Input(shape=(max_len,)),\n",
        "    Embedding(input_dim =VOCAB_SIZE, output_dim=embedding_dim, trainable=True ,mask_zero=True),\n",
        "    LSTM(32 , use_cudnn=False),\n",
        "    Dropout(0.5),\n",
        "    Dense(1, activation='sigmoid', kernel_regularizer=l2(0.01))\n",
        "])\n",
        "model1.summary()"
      ],
      "metadata": {
        "colab": {
          "base_uri": "https://localhost:8080/",
          "height": 269
        },
        "id": "aV15WIVaSgp3",
        "outputId": "8f29fc52-f5f9-4184-ded1-df1f5d5cf27b"
      },
      "execution_count": 9,
      "outputs": [
        {
          "output_type": "display_data",
          "data": {
            "text/plain": [
              "\u001b[1mModel: \"sequential\"\u001b[0m\n"
            ],
            "text/html": [
              "<pre style=\"white-space:pre;overflow-x:auto;line-height:normal;font-family:Menlo,'DejaVu Sans Mono',consolas,'Courier New',monospace\"><span style=\"font-weight: bold\">Model: \"sequential\"</span>\n",
              "</pre>\n"
            ]
          },
          "metadata": {}
        },
        {
          "output_type": "display_data",
          "data": {
            "text/plain": [
              "┏━━━━━━━━━━━━━━━━━━━━━━━━━━━━━━━━━━━━━━┳━━━━━━━━━━━━━━━━━━━━━━━━━━━━━┳━━━━━━━━━━━━━━━━━┓\n",
              "┃\u001b[1m \u001b[0m\u001b[1mLayer (type)                        \u001b[0m\u001b[1m \u001b[0m┃\u001b[1m \u001b[0m\u001b[1mOutput Shape               \u001b[0m\u001b[1m \u001b[0m┃\u001b[1m \u001b[0m\u001b[1m        Param #\u001b[0m\u001b[1m \u001b[0m┃\n",
              "┡━━━━━━━━━━━━━━━━━━━━━━━━━━━━━━━━━━━━━━╇━━━━━━━━━━━━━━━━━━━━━━━━━━━━━╇━━━━━━━━━━━━━━━━━┩\n",
              "│ embedding (\u001b[38;5;33mEmbedding\u001b[0m)                │ (\u001b[38;5;45mNone\u001b[0m, \u001b[38;5;34m100\u001b[0m, \u001b[38;5;34m50\u001b[0m)             │      \u001b[38;5;34m20,709,800\u001b[0m │\n",
              "├──────────────────────────────────────┼─────────────────────────────┼─────────────────┤\n",
              "│ lstm (\u001b[38;5;33mLSTM\u001b[0m)                          │ (\u001b[38;5;45mNone\u001b[0m, \u001b[38;5;34m32\u001b[0m)                  │          \u001b[38;5;34m10,624\u001b[0m │\n",
              "├──────────────────────────────────────┼─────────────────────────────┼─────────────────┤\n",
              "│ dropout (\u001b[38;5;33mDropout\u001b[0m)                    │ (\u001b[38;5;45mNone\u001b[0m, \u001b[38;5;34m32\u001b[0m)                  │               \u001b[38;5;34m0\u001b[0m │\n",
              "├──────────────────────────────────────┼─────────────────────────────┼─────────────────┤\n",
              "│ dense (\u001b[38;5;33mDense\u001b[0m)                        │ (\u001b[38;5;45mNone\u001b[0m, \u001b[38;5;34m1\u001b[0m)                   │              \u001b[38;5;34m33\u001b[0m │\n",
              "└──────────────────────────────────────┴─────────────────────────────┴─────────────────┘\n"
            ],
            "text/html": [
              "<pre style=\"white-space:pre;overflow-x:auto;line-height:normal;font-family:Menlo,'DejaVu Sans Mono',consolas,'Courier New',monospace\">┏━━━━━━━━━━━━━━━━━━━━━━━━━━━━━━━━━━━━━━┳━━━━━━━━━━━━━━━━━━━━━━━━━━━━━┳━━━━━━━━━━━━━━━━━┓\n",
              "┃<span style=\"font-weight: bold\"> Layer (type)                         </span>┃<span style=\"font-weight: bold\"> Output Shape                </span>┃<span style=\"font-weight: bold\">         Param # </span>┃\n",
              "┡━━━━━━━━━━━━━━━━━━━━━━━━━━━━━━━━━━━━━━╇━━━━━━━━━━━━━━━━━━━━━━━━━━━━━╇━━━━━━━━━━━━━━━━━┩\n",
              "│ embedding (<span style=\"color: #0087ff; text-decoration-color: #0087ff\">Embedding</span>)                │ (<span style=\"color: #00d7ff; text-decoration-color: #00d7ff\">None</span>, <span style=\"color: #00af00; text-decoration-color: #00af00\">100</span>, <span style=\"color: #00af00; text-decoration-color: #00af00\">50</span>)             │      <span style=\"color: #00af00; text-decoration-color: #00af00\">20,709,800</span> │\n",
              "├──────────────────────────────────────┼─────────────────────────────┼─────────────────┤\n",
              "│ lstm (<span style=\"color: #0087ff; text-decoration-color: #0087ff\">LSTM</span>)                          │ (<span style=\"color: #00d7ff; text-decoration-color: #00d7ff\">None</span>, <span style=\"color: #00af00; text-decoration-color: #00af00\">32</span>)                  │          <span style=\"color: #00af00; text-decoration-color: #00af00\">10,624</span> │\n",
              "├──────────────────────────────────────┼─────────────────────────────┼─────────────────┤\n",
              "│ dropout (<span style=\"color: #0087ff; text-decoration-color: #0087ff\">Dropout</span>)                    │ (<span style=\"color: #00d7ff; text-decoration-color: #00d7ff\">None</span>, <span style=\"color: #00af00; text-decoration-color: #00af00\">32</span>)                  │               <span style=\"color: #00af00; text-decoration-color: #00af00\">0</span> │\n",
              "├──────────────────────────────────────┼─────────────────────────────┼─────────────────┤\n",
              "│ dense (<span style=\"color: #0087ff; text-decoration-color: #0087ff\">Dense</span>)                        │ (<span style=\"color: #00d7ff; text-decoration-color: #00d7ff\">None</span>, <span style=\"color: #00af00; text-decoration-color: #00af00\">1</span>)                   │              <span style=\"color: #00af00; text-decoration-color: #00af00\">33</span> │\n",
              "└──────────────────────────────────────┴─────────────────────────────┴─────────────────┘\n",
              "</pre>\n"
            ]
          },
          "metadata": {}
        },
        {
          "output_type": "display_data",
          "data": {
            "text/plain": [
              "\u001b[1m Total params: \u001b[0m\u001b[38;5;34m20,720,457\u001b[0m (79.04 MB)\n"
            ],
            "text/html": [
              "<pre style=\"white-space:pre;overflow-x:auto;line-height:normal;font-family:Menlo,'DejaVu Sans Mono',consolas,'Courier New',monospace\"><span style=\"font-weight: bold\"> Total params: </span><span style=\"color: #00af00; text-decoration-color: #00af00\">20,720,457</span> (79.04 MB)\n",
              "</pre>\n"
            ]
          },
          "metadata": {}
        },
        {
          "output_type": "display_data",
          "data": {
            "text/plain": [
              "\u001b[1m Trainable params: \u001b[0m\u001b[38;5;34m20,720,457\u001b[0m (79.04 MB)\n"
            ],
            "text/html": [
              "<pre style=\"white-space:pre;overflow-x:auto;line-height:normal;font-family:Menlo,'DejaVu Sans Mono',consolas,'Courier New',monospace\"><span style=\"font-weight: bold\"> Trainable params: </span><span style=\"color: #00af00; text-decoration-color: #00af00\">20,720,457</span> (79.04 MB)\n",
              "</pre>\n"
            ]
          },
          "metadata": {}
        },
        {
          "output_type": "display_data",
          "data": {
            "text/plain": [
              "\u001b[1m Non-trainable params: \u001b[0m\u001b[38;5;34m0\u001b[0m (0.00 B)\n"
            ],
            "text/html": [
              "<pre style=\"white-space:pre;overflow-x:auto;line-height:normal;font-family:Menlo,'DejaVu Sans Mono',consolas,'Courier New',monospace\"><span style=\"font-weight: bold\"> Non-trainable params: </span><span style=\"color: #00af00; text-decoration-color: #00af00\">0</span> (0.00 B)\n",
              "</pre>\n"
            ]
          },
          "metadata": {}
        }
      ]
    },
    {
      "cell_type": "code",
      "source": [
        "model1.compile(\n",
        "    optimizer=Adam(learning_rate=0.001),\n",
        "    loss='binary_crossentropy',\n",
        "    metrics=['accuracy'])"
      ],
      "metadata": {
        "id": "Nb4Te1VOYfLB"
      },
      "execution_count": 10,
      "outputs": []
    },
    {
      "cell_type": "code",
      "source": [
        "history1 = model1.fit(X_train, y_train, epochs=2, validation_data=(X_test, y_test))"
      ],
      "metadata": {
        "colab": {
          "base_uri": "https://localhost:8080/",
          "height": 0
        },
        "id": "nkRpikEdYrZn",
        "outputId": "10d4f016-1f3e-4c03-eaa8-7e3c000e4aa7"
      },
      "execution_count": 11,
      "outputs": [
        {
          "output_type": "stream",
          "name": "stdout",
          "text": [
            "Epoch 1/2\n",
            "\u001b[1m25000/25000\u001b[0m \u001b[32m━━━━━━━━━━━━━━━━━━━━\u001b[0m\u001b[37m\u001b[0m \u001b[1m462s\u001b[0m 18ms/step - accuracy: 0.7630 - loss: 0.5006 - val_accuracy: 0.8162 - val_loss: 0.3975\n",
            "Epoch 2/2\n",
            "\u001b[1m25000/25000\u001b[0m \u001b[32m━━━━━━━━━━━━━━━━━━━━\u001b[0m\u001b[37m\u001b[0m \u001b[1m483s\u001b[0m 18ms/step - accuracy: 0.8420 - loss: 0.3746 - val_accuracy: 0.8022 - val_loss: 0.4566\n"
          ]
        }
      ]
    },
    {
      "cell_type": "markdown",
      "source": [
        "##Model 1 Evalutaion"
      ],
      "metadata": {
        "id": "fTW4y6q6iTfe"
      }
    },
    {
      "cell_type": "code",
      "source": [
        "model1.evaluate(X_test, y_test)"
      ],
      "metadata": {
        "colab": {
          "base_uri": "https://localhost:8080/",
          "height": 0
        },
        "id": "F87HlwM6w2nC",
        "outputId": "9c526aa4-5e48-4836-8989-3572e13ed594"
      },
      "execution_count": 13,
      "outputs": [
        {
          "output_type": "stream",
          "name": "stdout",
          "text": [
            "\u001b[1m12/12\u001b[0m \u001b[32m━━━━━━━━━━━━━━━━━━━━\u001b[0m\u001b[37m\u001b[0m \u001b[1m0s\u001b[0m 8ms/step - accuracy: 0.7886 - loss: 0.4682\n"
          ]
        },
        {
          "output_type": "execute_result",
          "data": {
            "text/plain": [
              "[0.45660829544067383, 0.8022283911705017]"
            ]
          },
          "metadata": {},
          "execution_count": 13
        }
      ]
    },
    {
      "cell_type": "markdown",
      "source": [
        "##Classification Report for model1"
      ],
      "metadata": {
        "id": "uVoIgT5AicK_"
      }
    },
    {
      "cell_type": "code",
      "source": [
        "y_pred1 = model1.predict(X_test)\n",
        "y_pred1 = (y_pred1 > 0.5).astype(int).flatten()\n",
        "print(classification_report(y_test, y_pred1, target_names=[\"0\", \"1\"]))"
      ],
      "metadata": {
        "colab": {
          "base_uri": "https://localhost:8080/",
          "height": 0
        },
        "id": "_6jAV90sZTN4",
        "outputId": "faf1e0ea-cc6d-4207-b987-3e58901086c7"
      },
      "execution_count": 14,
      "outputs": [
        {
          "output_type": "stream",
          "name": "stdout",
          "text": [
            "\u001b[1m12/12\u001b[0m \u001b[32m━━━━━━━━━━━━━━━━━━━━\u001b[0m\u001b[37m\u001b[0m \u001b[1m1s\u001b[0m 52ms/step\n",
            "              precision    recall  f1-score   support\n",
            "\n",
            "           0       0.79      0.81      0.80       177\n",
            "           1       0.81      0.80      0.80       182\n",
            "\n",
            "    accuracy                           0.80       359\n",
            "   macro avg       0.80      0.80      0.80       359\n",
            "weighted avg       0.80      0.80      0.80       359\n",
            "\n"
          ]
        }
      ]
    },
    {
      "cell_type": "markdown",
      "source": [
        "## Second Model (With Pre-Trained Word2Vec Embeddings)"
      ],
      "metadata": {
        "id": "SluMQxLrxJxz"
      }
    },
    {
      "cell_type": "markdown",
      "source": [
        "# We tried to import GoogleNEws Word2Vec but it had a high precentage of missing Vocab\n"
      ],
      "metadata": {
        "id": "V3prLSYYifro"
      }
    },
    {
      "cell_type": "markdown",
      "source": [
        "## Google News"
      ],
      "metadata": {
        "id": "o3pdmwAwKQA1"
      }
    },
    {
      "cell_type": "code",
      "source": [
        "import kagglehub\n",
        "\n",
        "path = kagglehub.dataset_download(\"adarshsng/googlenewsvectors\")\n",
        "\n",
        "print(\"Path to dataset files:\", path)"
      ],
      "metadata": {
        "colab": {
          "base_uri": "https://localhost:8080/"
        },
        "id": "Jhvn0_q6xJXl",
        "outputId": "07f2f5a7-d294-4f91-b943-ce1bbd0d388b"
      },
      "execution_count": null,
      "outputs": [
        {
          "output_type": "stream",
          "name": "stdout",
          "text": [
            "Warning: Looks like you're using an outdated `kagglehub` version, please consider updating (latest version: 0.3.5)\n",
            "Downloading from https://www.kaggle.com/api/v1/datasets/download/adarshsng/googlenewsvectors?dataset_version_number=1...\n"
          ]
        },
        {
          "output_type": "stream",
          "name": "stderr",
          "text": [
            "100%|██████████| 1.64G/1.64G [01:04<00:00, 27.2MB/s]"
          ]
        },
        {
          "output_type": "stream",
          "name": "stdout",
          "text": [
            "Extracting files...\n"
          ]
        },
        {
          "output_type": "stream",
          "name": "stderr",
          "text": [
            "\n"
          ]
        },
        {
          "output_type": "stream",
          "name": "stdout",
          "text": [
            "Path to dataset files: /root/.cache/kagglehub/datasets/adarshsng/googlenewsvectors/versions/1\n"
          ]
        }
      ]
    },
    {
      "cell_type": "code",
      "source": [
        "from gensim.models import KeyedVectors\n",
        "\n",
        "# Load the pre-trained Word2Vec embeddings\n",
        "word2vec_path = f\"{path}/GoogleNews-vectors-negative300.bin\"\n",
        "word2vec = KeyedVectors.load_word2vec_format(word2vec_path, binary=True)\n",
        "\n",
        "embedding_dim = word2vec.vector_size  # The size of each embedding vector\n",
        "print(f\"Embedding Dimension: {embedding_dim}\")"
      ],
      "metadata": {
        "colab": {
          "base_uri": "https://localhost:8080/"
        },
        "id": "g69IEVHX1zOu",
        "outputId": "24530b7d-d7d7-4179-c825-f7d52e1b8292"
      },
      "execution_count": null,
      "outputs": [
        {
          "output_type": "stream",
          "name": "stdout",
          "text": [
            "Embedding Dimension: 300\n"
          ]
        }
      ]
    },
    {
      "cell_type": "code",
      "source": [
        "misses = 0\n",
        "\n",
        "embedding_matrix = np.zeros((VOCAB_SIZE, embedding_dim))\n",
        "for i in range(VOCAB_SIZE):\n",
        "    word = vocab[i]\n",
        "    if word in word2vec:\n",
        "        embedding_matrix[i] = word2vec[word]\n",
        "    else:\n",
        "        misses += 1\n",
        "\n",
        "print(\"Misses =\", misses)\n"
      ],
      "metadata": {
        "colab": {
          "base_uri": "https://localhost:8080/"
        },
        "id": "qMRrqt922g1O",
        "outputId": "784410d3-576f-43e4-db75-31c9d65e877d"
      },
      "execution_count": null,
      "outputs": [
        {
          "output_type": "stream",
          "name": "stdout",
          "text": [
            "Misses = 362499\n"
          ]
        }
      ]
    },
    {
      "cell_type": "code",
      "source": [
        "print(f\"percentage of missing words: {(misses / VOCAB_SIZE):.2f}\",\"%\")"
      ],
      "metadata": {
        "colab": {
          "base_uri": "https://localhost:8080/"
        },
        "id": "j2KAByY34JO1",
        "outputId": "c896ac89-78d6-48d2-bc08-c28f6ae58cd3"
      },
      "execution_count": null,
      "outputs": [
        {
          "output_type": "stream",
          "name": "stdout",
          "text": [
            "percentage of missing words: 0.88 %\n"
          ]
        }
      ]
    },
    {
      "cell_type": "markdown",
      "source": [
        "Google News embeddings are unsuitable for tweets due to their focus on formal text, lacking the slang, abbreviations, and sentiment patterns essential for analyzing informal social media content"
      ],
      "metadata": {
        "id": "2i-7hIDE6QJt"
      }
    },
    {
      "cell_type": "markdown",
      "source": [
        "# We found a Word2vec we could use on Github and we imported it and used it"
      ],
      "metadata": {
        "id": "UQDDuqbeKSsT"
      }
    },
    {
      "cell_type": "code",
      "source": [
        "import gdown\n",
        "\n",
        "\n",
        "file_id = '1lw5Hr6Xw0G0bMT1ZllrtMqEgCTrM7dzc'\n",
        "\n",
        "url = f'https://drive.google.com/uc?id={file_id}'\n",
        "\n",
        "output = 'word2vec_file.bin'\n",
        "\n",
        "gdown.download(url, output, quiet=False)\n"
      ],
      "metadata": {
        "colab": {
          "base_uri": "https://localhost:8080/",
          "height": 402
        },
        "id": "bT3_nfmqDzKd",
        "outputId": "c6851eab-003e-421a-8734-df34776324f2"
      },
      "execution_count": null,
      "outputs": [
        {
          "output_type": "stream",
          "name": "stderr",
          "text": [
            "Downloading...\n",
            "From (original): https://drive.google.com/uc?id=1lw5Hr6Xw0G0bMT1ZllrtMqEgCTrM7dzc\n",
            "From (redirected): https://drive.google.com/uc?id=1lw5Hr6Xw0G0bMT1ZllrtMqEgCTrM7dzc&confirm=t&uuid=13198539-1cf8-49a2-b9b7-e772be40767b\n",
            "To: /content/word2vec_file.bin\n",
            " 57%|█████▋    | 2.80G/4.90G [00:24<00:08, 241MB/s]"
          ]
        },
        {
          "output_type": "error",
          "ename": "KeyboardInterrupt",
          "evalue": "",
          "traceback": [
            "\u001b[0;31m---------------------------------------------------------------------------\u001b[0m",
            "\u001b[0;31mKeyboardInterrupt\u001b[0m                         Traceback (most recent call last)",
            "\u001b[0;32m<ipython-input-13-8fd6bb11aea3>\u001b[0m in \u001b[0;36m<cell line: 10>\u001b[0;34m()\u001b[0m\n\u001b[1;32m      8\u001b[0m \u001b[0moutput\u001b[0m \u001b[0;34m=\u001b[0m \u001b[0;34m'word2vec_file.bin'\u001b[0m\u001b[0;34m\u001b[0m\u001b[0;34m\u001b[0m\u001b[0m\n\u001b[1;32m      9\u001b[0m \u001b[0;34m\u001b[0m\u001b[0m\n\u001b[0;32m---> 10\u001b[0;31m \u001b[0mgdown\u001b[0m\u001b[0;34m.\u001b[0m\u001b[0mdownload\u001b[0m\u001b[0;34m(\u001b[0m\u001b[0murl\u001b[0m\u001b[0;34m,\u001b[0m \u001b[0moutput\u001b[0m\u001b[0;34m,\u001b[0m \u001b[0mquiet\u001b[0m\u001b[0;34m=\u001b[0m\u001b[0;32mFalse\u001b[0m\u001b[0;34m)\u001b[0m\u001b[0;34m\u001b[0m\u001b[0;34m\u001b[0m\u001b[0m\n\u001b[0m",
            "\u001b[0;32m/usr/local/lib/python3.10/dist-packages/gdown/download.py\u001b[0m in \u001b[0;36mdownload\u001b[0;34m(url, output, quiet, proxy, speed, use_cookies, verify, id, fuzzy, resume, format, user_agent, log_messages)\u001b[0m\n\u001b[1;32m    367\u001b[0m         \u001b[0mt_start\u001b[0m \u001b[0;34m=\u001b[0m \u001b[0mtime\u001b[0m\u001b[0;34m.\u001b[0m\u001b[0mtime\u001b[0m\u001b[0;34m(\u001b[0m\u001b[0;34m)\u001b[0m\u001b[0;34m\u001b[0m\u001b[0;34m\u001b[0m\u001b[0m\n\u001b[1;32m    368\u001b[0m         \u001b[0;32mfor\u001b[0m \u001b[0mchunk\u001b[0m \u001b[0;32min\u001b[0m \u001b[0mres\u001b[0m\u001b[0;34m.\u001b[0m\u001b[0miter_content\u001b[0m\u001b[0;34m(\u001b[0m\u001b[0mchunk_size\u001b[0m\u001b[0;34m=\u001b[0m\u001b[0mCHUNK_SIZE\u001b[0m\u001b[0;34m)\u001b[0m\u001b[0;34m:\u001b[0m\u001b[0;34m\u001b[0m\u001b[0;34m\u001b[0m\u001b[0m\n\u001b[0;32m--> 369\u001b[0;31m             \u001b[0mf\u001b[0m\u001b[0;34m.\u001b[0m\u001b[0mwrite\u001b[0m\u001b[0;34m(\u001b[0m\u001b[0mchunk\u001b[0m\u001b[0;34m)\u001b[0m\u001b[0;34m\u001b[0m\u001b[0;34m\u001b[0m\u001b[0m\n\u001b[0m\u001b[1;32m    370\u001b[0m             \u001b[0;32mif\u001b[0m \u001b[0;32mnot\u001b[0m \u001b[0mquiet\u001b[0m\u001b[0;34m:\u001b[0m\u001b[0;34m\u001b[0m\u001b[0;34m\u001b[0m\u001b[0m\n\u001b[1;32m    371\u001b[0m                 \u001b[0mpbar\u001b[0m\u001b[0;34m.\u001b[0m\u001b[0mupdate\u001b[0m\u001b[0;34m(\u001b[0m\u001b[0mlen\u001b[0m\u001b[0;34m(\u001b[0m\u001b[0mchunk\u001b[0m\u001b[0;34m)\u001b[0m\u001b[0;34m)\u001b[0m\u001b[0;34m\u001b[0m\u001b[0;34m\u001b[0m\u001b[0m\n",
            "\u001b[0;31mKeyboardInterrupt\u001b[0m: "
          ]
        }
      ]
    },
    {
      "cell_type": "markdown",
      "source": [
        "# We saved it to drive becuase it was 5Gb and then we uploaded it from Drive"
      ],
      "metadata": {
        "id": "8z1Farc8jAL9"
      }
    },
    {
      "cell_type": "code",
      "source": [
        "from gensim.models import KeyedVectors\n",
        "\n",
        "word2vec = KeyedVectors.load_word2vec_format('/content/drive/MyDrive/DL ASS2/word2vec_file.bin', binary=True, unicode_errors='ignore')\n",
        "\n",
        "embedding_dim = word2vec.vector_size  # The size of each embedding vector\n",
        "print(f\"Embedding Dimension: {embedding_dim}\")"
      ],
      "metadata": {
        "colab": {
          "base_uri": "https://localhost:8080/",
          "height": 0
        },
        "id": "0i7jh1wPGRos",
        "outputId": "38e38433-7a51-41bd-b8ec-3bde79f1640d"
      },
      "execution_count": 12,
      "outputs": [
        {
          "output_type": "stream",
          "name": "stdout",
          "text": [
            "Embedding Dimension: 400\n"
          ]
        }
      ]
    },
    {
      "cell_type": "markdown",
      "source": [
        "# The percentage of missing words is much less than Google News and this was the best we could do"
      ],
      "metadata": {
        "id": "6-EqbxydjJ0G"
      }
    },
    {
      "cell_type": "code",
      "source": [
        "\n",
        "misses = 0\n",
        "\n",
        "embedding_matrix = np.zeros((VOCAB_SIZE, embedding_dim))\n",
        "for i in range(VOCAB_SIZE):\n",
        "    word = vocab[i]\n",
        "    if word in word2vec:\n",
        "        embedding_matrix[i] = word2vec[word]\n",
        "    else:\n",
        "        misses += 1\n",
        "\n",
        "print(\"Misses =\", misses)\n"
      ],
      "metadata": {
        "colab": {
          "base_uri": "https://localhost:8080/"
        },
        "id": "ShlFQqDAGIQ_",
        "outputId": "5cc78672-d135-4a3c-d8b7-577e025e82d3"
      },
      "execution_count": null,
      "outputs": [
        {
          "output_type": "stream",
          "name": "stdout",
          "text": [
            "Misses = 298918\n"
          ]
        }
      ]
    },
    {
      "cell_type": "code",
      "source": [
        "print(f\"percentage of missing words: {(misses / VOCAB_SIZE):.2f}\",\"%\")"
      ],
      "metadata": {
        "id": "IZ8dini3RceT",
        "colab": {
          "base_uri": "https://localhost:8080/"
        },
        "outputId": "e57029bc-33bf-46cf-d568-3bcbbcefa7a5"
      },
      "execution_count": null,
      "outputs": [
        {
          "output_type": "stream",
          "name": "stdout",
          "text": [
            "percentage of missing words: 0.72 %\n"
          ]
        }
      ]
    },
    {
      "cell_type": "markdown",
      "source": [
        "#model2 using the Word2vec"
      ],
      "metadata": {
        "id": "MmOMtGw2jRRM"
      }
    },
    {
      "cell_type": "code",
      "source": [
        "model2 = Sequential([\n",
        "    Input(shape=(max_len,)),\n",
        "    Embedding(input_dim=VOCAB_SIZE, output_dim=embedding_dim, weights=[embedding_matrix], trainable=False, mask_zero=True),\n",
        "    LSTM(32, use_cudnn=False),\n",
        "    Dense(1, activation='sigmoid')\n",
        "])\n",
        "\n",
        "model2.summary()"
      ],
      "metadata": {
        "id": "nbPTrcvJS73m",
        "colab": {
          "base_uri": "https://localhost:8080/",
          "height": 235
        },
        "outputId": "cae66fdf-5ee8-46f9-fda6-7b45da49659b"
      },
      "execution_count": null,
      "outputs": [
        {
          "output_type": "display_data",
          "data": {
            "text/plain": [
              "\u001b[1mModel: \"sequential_1\"\u001b[0m\n"
            ],
            "text/html": [
              "<pre style=\"white-space:pre;overflow-x:auto;line-height:normal;font-family:Menlo,'DejaVu Sans Mono',consolas,'Courier New',monospace\"><span style=\"font-weight: bold\">Model: \"sequential_1\"</span>\n",
              "</pre>\n"
            ]
          },
          "metadata": {}
        },
        {
          "output_type": "display_data",
          "data": {
            "text/plain": [
              "┏━━━━━━━━━━━━━━━━━━━━━━━━━━━━━━━━━━━━━━┳━━━━━━━━━━━━━━━━━━━━━━━━━━━━━┳━━━━━━━━━━━━━━━━━┓\n",
              "┃\u001b[1m \u001b[0m\u001b[1mLayer (type)                        \u001b[0m\u001b[1m \u001b[0m┃\u001b[1m \u001b[0m\u001b[1mOutput Shape               \u001b[0m\u001b[1m \u001b[0m┃\u001b[1m \u001b[0m\u001b[1m        Param #\u001b[0m\u001b[1m \u001b[0m┃\n",
              "┡━━━━━━━━━━━━━━━━━━━━━━━━━━━━━━━━━━━━━━╇━━━━━━━━━━━━━━━━━━━━━━━━━━━━━╇━━━━━━━━━━━━━━━━━┩\n",
              "│ embedding_1 (\u001b[38;5;33mEmbedding\u001b[0m)              │ (\u001b[38;5;45mNone\u001b[0m, \u001b[38;5;34m100\u001b[0m, \u001b[38;5;34m400\u001b[0m)            │     \u001b[38;5;34m165,678,400\u001b[0m │\n",
              "├──────────────────────────────────────┼─────────────────────────────┼─────────────────┤\n",
              "│ lstm_1 (\u001b[38;5;33mLSTM\u001b[0m)                        │ (\u001b[38;5;45mNone\u001b[0m, \u001b[38;5;34m32\u001b[0m)                  │          \u001b[38;5;34m55,424\u001b[0m │\n",
              "├──────────────────────────────────────┼─────────────────────────────┼─────────────────┤\n",
              "│ dense_1 (\u001b[38;5;33mDense\u001b[0m)                      │ (\u001b[38;5;45mNone\u001b[0m, \u001b[38;5;34m1\u001b[0m)                   │              \u001b[38;5;34m33\u001b[0m │\n",
              "└──────────────────────────────────────┴─────────────────────────────┴─────────────────┘\n"
            ],
            "text/html": [
              "<pre style=\"white-space:pre;overflow-x:auto;line-height:normal;font-family:Menlo,'DejaVu Sans Mono',consolas,'Courier New',monospace\">┏━━━━━━━━━━━━━━━━━━━━━━━━━━━━━━━━━━━━━━┳━━━━━━━━━━━━━━━━━━━━━━━━━━━━━┳━━━━━━━━━━━━━━━━━┓\n",
              "┃<span style=\"font-weight: bold\"> Layer (type)                         </span>┃<span style=\"font-weight: bold\"> Output Shape                </span>┃<span style=\"font-weight: bold\">         Param # </span>┃\n",
              "┡━━━━━━━━━━━━━━━━━━━━━━━━━━━━━━━━━━━━━━╇━━━━━━━━━━━━━━━━━━━━━━━━━━━━━╇━━━━━━━━━━━━━━━━━┩\n",
              "│ embedding_1 (<span style=\"color: #0087ff; text-decoration-color: #0087ff\">Embedding</span>)              │ (<span style=\"color: #00d7ff; text-decoration-color: #00d7ff\">None</span>, <span style=\"color: #00af00; text-decoration-color: #00af00\">100</span>, <span style=\"color: #00af00; text-decoration-color: #00af00\">400</span>)            │     <span style=\"color: #00af00; text-decoration-color: #00af00\">165,678,400</span> │\n",
              "├──────────────────────────────────────┼─────────────────────────────┼─────────────────┤\n",
              "│ lstm_1 (<span style=\"color: #0087ff; text-decoration-color: #0087ff\">LSTM</span>)                        │ (<span style=\"color: #00d7ff; text-decoration-color: #00d7ff\">None</span>, <span style=\"color: #00af00; text-decoration-color: #00af00\">32</span>)                  │          <span style=\"color: #00af00; text-decoration-color: #00af00\">55,424</span> │\n",
              "├──────────────────────────────────────┼─────────────────────────────┼─────────────────┤\n",
              "│ dense_1 (<span style=\"color: #0087ff; text-decoration-color: #0087ff\">Dense</span>)                      │ (<span style=\"color: #00d7ff; text-decoration-color: #00d7ff\">None</span>, <span style=\"color: #00af00; text-decoration-color: #00af00\">1</span>)                   │              <span style=\"color: #00af00; text-decoration-color: #00af00\">33</span> │\n",
              "└──────────────────────────────────────┴─────────────────────────────┴─────────────────┘\n",
              "</pre>\n"
            ]
          },
          "metadata": {}
        },
        {
          "output_type": "display_data",
          "data": {
            "text/plain": [
              "\u001b[1m Total params: \u001b[0m\u001b[38;5;34m165,733,857\u001b[0m (632.22 MB)\n"
            ],
            "text/html": [
              "<pre style=\"white-space:pre;overflow-x:auto;line-height:normal;font-family:Menlo,'DejaVu Sans Mono',consolas,'Courier New',monospace\"><span style=\"font-weight: bold\"> Total params: </span><span style=\"color: #00af00; text-decoration-color: #00af00\">165,733,857</span> (632.22 MB)\n",
              "</pre>\n"
            ]
          },
          "metadata": {}
        },
        {
          "output_type": "display_data",
          "data": {
            "text/plain": [
              "\u001b[1m Trainable params: \u001b[0m\u001b[38;5;34m55,457\u001b[0m (216.63 KB)\n"
            ],
            "text/html": [
              "<pre style=\"white-space:pre;overflow-x:auto;line-height:normal;font-family:Menlo,'DejaVu Sans Mono',consolas,'Courier New',monospace\"><span style=\"font-weight: bold\"> Trainable params: </span><span style=\"color: #00af00; text-decoration-color: #00af00\">55,457</span> (216.63 KB)\n",
              "</pre>\n"
            ]
          },
          "metadata": {}
        },
        {
          "output_type": "display_data",
          "data": {
            "text/plain": [
              "\u001b[1m Non-trainable params: \u001b[0m\u001b[38;5;34m165,678,400\u001b[0m (632.01 MB)\n"
            ],
            "text/html": [
              "<pre style=\"white-space:pre;overflow-x:auto;line-height:normal;font-family:Menlo,'DejaVu Sans Mono',consolas,'Courier New',monospace\"><span style=\"font-weight: bold\"> Non-trainable params: </span><span style=\"color: #00af00; text-decoration-color: #00af00\">165,678,400</span> (632.01 MB)\n",
              "</pre>\n"
            ]
          },
          "metadata": {}
        }
      ]
    },
    {
      "cell_type": "code",
      "source": [
        "model2.compile(\n",
        "    optimizer=Adam(learning_rate=0.001),\n",
        "    loss='binary_crossentropy',\n",
        "    metrics=['accuracy'])"
      ],
      "metadata": {
        "id": "lYBc_VHyS_6Q"
      },
      "execution_count": null,
      "outputs": []
    },
    {
      "cell_type": "code",
      "source": [
        "history2 = model2.fit(X_train, y_train, epochs=2, validation_data=(X_test, y_test))"
      ],
      "metadata": {
        "id": "Zu--0Q6LRmfp",
        "colab": {
          "base_uri": "https://localhost:8080/"
        },
        "outputId": "07913b7c-6f33-42e3-965d-b9c2e4c7363a"
      },
      "execution_count": null,
      "outputs": [
        {
          "output_type": "stream",
          "name": "stdout",
          "text": [
            "Epoch 1/2\n",
            "\u001b[1m25000/25000\u001b[0m \u001b[32m━━━━━━━━━━━━━━━━━━━━\u001b[0m\u001b[37m\u001b[0m \u001b[1m344s\u001b[0m 14ms/step - accuracy: 0.7776 - loss: 0.4640 - val_accuracy: 0.8189 - val_loss: 0.3934\n",
            "Epoch 2/2\n",
            "\u001b[1m25000/25000\u001b[0m \u001b[32m━━━━━━━━━━━━━━━━━━━━\u001b[0m\u001b[37m\u001b[0m \u001b[1m335s\u001b[0m 13ms/step - accuracy: 0.8032 - loss: 0.4228 - val_accuracy: 0.8329 - val_loss: 0.3721\n"
          ]
        }
      ]
    },
    {
      "cell_type": "markdown",
      "source": [
        "#Evaluating model2 , it shows better results and no overfitting"
      ],
      "metadata": {
        "id": "wK1MBZdhjVPN"
      }
    },
    {
      "cell_type": "code",
      "source": [
        "model2.evaluate(X_test, y_test)"
      ],
      "metadata": {
        "id": "um4H6Nm7TN1G",
        "colab": {
          "base_uri": "https://localhost:8080/"
        },
        "outputId": "04373007-a6bd-4dfa-e8f4-0bf0488c1e2c"
      },
      "execution_count": null,
      "outputs": [
        {
          "output_type": "stream",
          "name": "stdout",
          "text": [
            "\u001b[1m12/12\u001b[0m \u001b[32m━━━━━━━━━━━━━━━━━━━━\u001b[0m\u001b[37m\u001b[0m \u001b[1m0s\u001b[0m 5ms/step - accuracy: 0.8284 - loss: 0.3813\n"
          ]
        },
        {
          "output_type": "execute_result",
          "data": {
            "text/plain": [
              "[0.3720570504665375, 0.8328690528869629]"
            ]
          },
          "metadata": {},
          "execution_count": 16
        }
      ]
    },
    {
      "cell_type": "markdown",
      "source": [
        "#Saving the models weights to drive to use in the LSTM Forward functions"
      ],
      "metadata": {
        "id": "MVAnAZfyjl8W"
      }
    },
    {
      "cell_type": "code",
      "source": [
        "model2.save_weights('model2.weights.h5')"
      ],
      "metadata": {
        "id": "UlRHhJ9aU98A"
      },
      "execution_count": null,
      "outputs": []
    },
    {
      "cell_type": "code",
      "source": [
        "y_pred = model2.predict(X_test)\n",
        "y_pred = (y_pred > 0.5).astype(int).flatten()\n",
        "print(classification_report(y_test, y_pred, target_names=[\"0\", \"1\"]))"
      ],
      "metadata": {
        "id": "gGP_fV1yXN7h"
      },
      "execution_count": null,
      "outputs": []
    },
    {
      "cell_type": "markdown",
      "source": [
        "#Building a Sequential layers to give the weights of model2 to so that we dont have to run model2 everytime"
      ],
      "metadata": {
        "id": "QfjB1RSejtrz"
      }
    },
    {
      "cell_type": "code",
      "source": [
        "# Step 1: Recreate the model architecture\n",
        "model22 = tf.keras.Sequential([\n",
        "    tf.keras.layers.Input(shape=(max_len,)),\n",
        "    tf.keras.layers.Embedding(input_dim=VOCAB_SIZE, output_dim=embedding_dim, mask_zero=True, trainable=False),\n",
        "    tf.keras.layers.LSTM(32, use_cudnn=False),\n",
        "    tf.keras.layers.Dense(1, activation='sigmoid')\n",
        "])\n",
        "\n",
        "\n",
        "\n",
        "# Step 2: Load the weights into the model\n",
        "model22.load_weights('/content/drive/MyDrive/DL ASS2/model2.weights.h5')\n",
        "print(\"Weights successfully loaded into model2.\")"
      ],
      "metadata": {
        "id": "kEQbmOeTSuv0",
        "colab": {
          "base_uri": "https://localhost:8080/",
          "height": 0
        },
        "outputId": "c0e82d2d-60ae-4d26-a1b0-24a9beb6438c"
      },
      "execution_count": 15,
      "outputs": [
        {
          "output_type": "stream",
          "name": "stdout",
          "text": [
            "Weights successfully loaded into model2.\n"
          ]
        }
      ]
    },
    {
      "cell_type": "code",
      "source": [
        "model22.compile(\n",
        "    optimizer=Adam(learning_rate=0.001),\n",
        "    loss='binary_crossentropy',\n",
        "    metrics=['accuracy'])"
      ],
      "metadata": {
        "id": "2bmza_noGZrV"
      },
      "execution_count": 18,
      "outputs": []
    },
    {
      "cell_type": "markdown",
      "source": [
        "#Same Evaluation and classification report as model2"
      ],
      "metadata": {
        "id": "xNz3LtjOj2eE"
      }
    },
    {
      "cell_type": "code",
      "source": [
        "model22.evaluate(X_test, y_test)"
      ],
      "metadata": {
        "colab": {
          "base_uri": "https://localhost:8080/",
          "height": 0
        },
        "id": "Msh5JzRKGSy_",
        "outputId": "c53fedb7-c789-4414-c16d-ef716d975426"
      },
      "execution_count": 19,
      "outputs": [
        {
          "output_type": "stream",
          "name": "stdout",
          "text": [
            "\u001b[1m12/12\u001b[0m \u001b[32m━━━━━━━━━━━━━━━━━━━━\u001b[0m\u001b[37m\u001b[0m \u001b[1m1s\u001b[0m 38ms/step - accuracy: 0.8284 - loss: 0.3813\n"
          ]
        },
        {
          "output_type": "execute_result",
          "data": {
            "text/plain": [
              "[0.3720570504665375, 0.8328690528869629]"
            ]
          },
          "metadata": {},
          "execution_count": 19
        }
      ]
    },
    {
      "cell_type": "code",
      "source": [
        "y_pred = model22.predict(X_test)\n",
        "y_pred = (y_pred > 0.5).astype(int).flatten()\n",
        "print(classification_report(y_test, y_pred, target_names=[\"0\", \"1\"]))"
      ],
      "metadata": {
        "colab": {
          "base_uri": "https://localhost:8080/",
          "height": 0
        },
        "id": "TEtIFuGgGGai",
        "outputId": "603a2f59-3c90-4315-c7c7-2923934e42a8"
      },
      "execution_count": 16,
      "outputs": [
        {
          "output_type": "stream",
          "name": "stdout",
          "text": [
            "\u001b[1m12/12\u001b[0m \u001b[32m━━━━━━━━━━━━━━━━━━━━\u001b[0m\u001b[37m\u001b[0m \u001b[1m2s\u001b[0m 77ms/step\n",
            "              precision    recall  f1-score   support\n",
            "\n",
            "           0       0.83      0.84      0.83       177\n",
            "           1       0.84      0.83      0.83       182\n",
            "\n",
            "    accuracy                           0.83       359\n",
            "   macro avg       0.83      0.83      0.83       359\n",
            "weighted avg       0.83      0.83      0.83       359\n",
            "\n"
          ]
        }
      ]
    },
    {
      "cell_type": "markdown",
      "source": [
        "#LSTM Forward Function and predict Function"
      ],
      "metadata": {
        "id": "aSDjvUKTj9d1"
      }
    },
    {
      "cell_type": "code",
      "source": [
        "\n",
        "# Extract weights from the trained model\n",
        "# Assuming `model2` is already trained\n",
        "\n",
        "# Extract layers\n",
        "embedding_layer = model22.layers[0]\n",
        "lstm_layer = model22.layers[1]\n",
        "dense_layer = model22.layers[2]  # Last layer\n",
        "\n",
        "# Extract LSTM weights\n",
        "W_xh, W_hh, b_h = lstm_layer.get_weights()\n",
        "units = W_hh.shape[0]\n",
        "W_xi, W_xf, W_xc, W_xo = np.split(W_xh, 4, axis=1)\n",
        "W_hi, W_hf, W_hc, W_ho = np.split(W_hh, 4, axis=1)\n",
        "b_i, b_f, b_c, b_o = np.split(b_h, 4)\n",
        "\n",
        "# Extract Dense layer weights\n",
        "dense_weights = dense_layer.get_weights()\n",
        "W_dense, b_dense = dense_weights[0], dense_weights[1]  # Weights and bias\n",
        "\n",
        "# LSTM forward function\n",
        "def LSTM_forward(x, mask):\n",
        "    h_t = tf.zeros((units,), dtype=tf.float32)  # Hidden state\n",
        "    c_t = tf.zeros((units,), dtype=tf.float32)  # Cell state\n",
        "\n",
        "    for t in range(x.shape[0]):\n",
        "        if mask[t] == 0:  # Skip masked timesteps\n",
        "            continue\n",
        "\n",
        "        x_t = tf.reshape(x[t], (1, -1))  # Ensure correct shape for multiplication\n",
        "\n",
        "        i_t = tf.sigmoid(tf.matmul(x_t, W_xi) + tf.matmul(tf.reshape(h_t, (1, -1)), W_hi) + b_i)\n",
        "        f_t = tf.sigmoid(tf.matmul(x_t, W_xf) + tf.matmul(tf.reshape(h_t, (1, -1)), W_hf) + b_f)\n",
        "        c_hat_t = tf.tanh(tf.matmul(x_t, W_xc) + tf.matmul(tf.reshape(h_t, (1, -1)), W_hc) + b_c)\n",
        "        o_t = tf.sigmoid(tf.matmul(x_t, W_xo) + tf.matmul(tf.reshape(h_t, (1, -1)), W_ho) + b_o)\n",
        "\n",
        "        c_t = f_t * c_t + i_t * c_hat_t\n",
        "        h_t = o_t * tf.tanh(c_t)\n",
        "\n",
        "    h_t = tf.reshape(h_t, (1, -1))\n",
        "    output = tf.sigmoid(tf.matmul(h_t, W_dense) + b_dense)\n",
        "    return output.numpy()\n",
        "\n",
        "# Predict function\n",
        "def predict(batch):\n",
        "    outputs = []\n",
        "    for i in range(batch.shape[0]):\n",
        "        x = batch[i]\n",
        "        mask = (x.sum(axis=1) != 0).astype(int)\n",
        "        output = LSTM_forward(x, mask)\n",
        "        outputs.append(output)\n",
        "    return np.array(outputs)\n",
        "\n",
        "\n",
        "\n"
      ],
      "metadata": {
        "id": "aQaeI8aUHajs"
      },
      "execution_count": 28,
      "outputs": []
    },
    {
      "cell_type": "markdown",
      "source": [
        "#Calling LSTM Forward Function and predict function and showing the output"
      ],
      "metadata": {
        "id": "m0lIaQghkDSP"
      }
    },
    {
      "cell_type": "code",
      "source": [
        "# Test predictions\n",
        "X_test_embedded = embedding_layer(X_test).numpy()\n",
        "test_data_sample = X_test_embedded[:10]\n",
        "\n",
        "custom_predictions = predict(test_data_sample)\n",
        "model_predictions = model22.predict(X_test[:10])\n",
        "\n",
        "\n",
        "\n",
        "for i in range(len(custom_predictions)):\n",
        "    print(f\"Custom Prediction: {custom_predictions[i]}, Model Prediction: {model_predictions[i]}\")\n",
        "    print(f\"Custom Prediction: {(custom_predictions[i] >= 0.5).astype(int) }, Model Prediction: {(model_predictions[i] >= 0.5).astype(int)}\")\n",
        "    print(f\"Custom Prediction: {(custom_predictions[i] >= 0.5).astype(int) == (model_predictions[i] >= 0.5).astype(int)}\")\n",
        "    print()"
      ],
      "metadata": {
        "colab": {
          "base_uri": "https://localhost:8080/",
          "height": 0
        },
        "id": "4gWdUUZDODYf",
        "outputId": "7f5b8b5d-c4ff-4a2d-eab5-475327064aea"
      },
      "execution_count": 34,
      "outputs": [
        {
          "output_type": "stream",
          "name": "stdout",
          "text": [
            "\u001b[1m1/1\u001b[0m \u001b[32m━━━━━━━━━━━━━━━━━━━━\u001b[0m\u001b[37m\u001b[0m \u001b[1m0s\u001b[0m 24ms/step\n",
            "Custom Prediction: [[0.9822702]], Model Prediction: [0.9790947]\n",
            "Custom Prediction: [[1]], Model Prediction: [1]\n",
            "Custom Prediction: [[ True]]\n",
            "\n",
            "Custom Prediction: [[0.9449061]], Model Prediction: [0.9449061]\n",
            "Custom Prediction: [[1]], Model Prediction: [1]\n",
            "Custom Prediction: [[ True]]\n",
            "\n",
            "Custom Prediction: [[0.71786207]], Model Prediction: [0.71786207]\n",
            "Custom Prediction: [[1]], Model Prediction: [1]\n",
            "Custom Prediction: [[ True]]\n",
            "\n",
            "Custom Prediction: [[0.23820212]], Model Prediction: [0.2979875]\n",
            "Custom Prediction: [[0]], Model Prediction: [0]\n",
            "Custom Prediction: [[ True]]\n",
            "\n",
            "Custom Prediction: [[0.4124951]], Model Prediction: [0.5372213]\n",
            "Custom Prediction: [[0]], Model Prediction: [1]\n",
            "Custom Prediction: [[False]]\n",
            "\n",
            "Custom Prediction: [[0.8859251]], Model Prediction: [0.8936246]\n",
            "Custom Prediction: [[1]], Model Prediction: [1]\n",
            "Custom Prediction: [[ True]]\n",
            "\n",
            "Custom Prediction: [[0.06008811]], Model Prediction: [0.06008812]\n",
            "Custom Prediction: [[0]], Model Prediction: [0]\n",
            "Custom Prediction: [[ True]]\n",
            "\n",
            "Custom Prediction: [[0.86116093]], Model Prediction: [0.86116093]\n",
            "Custom Prediction: [[1]], Model Prediction: [1]\n",
            "Custom Prediction: [[ True]]\n",
            "\n",
            "Custom Prediction: [[0.9679487]], Model Prediction: [0.9679487]\n",
            "Custom Prediction: [[1]], Model Prediction: [1]\n",
            "Custom Prediction: [[ True]]\n",
            "\n",
            "Custom Prediction: [[0.79263914]], Model Prediction: [0.79263914]\n",
            "Custom Prediction: [[1]], Model Prediction: [1]\n",
            "Custom Prediction: [[ True]]\n",
            "\n"
          ]
        }
      ]
    },
    {
      "cell_type": "markdown",
      "source": [
        "for the first 10 samples we got a 0.1 diffrence which was told to be acceptable.."
      ],
      "metadata": {
        "id": "S9zSLD4DkK6G"
      }
    },
    {
      "cell_type": "code",
      "source": [
        "# Check the mean absolute difference\n",
        "difference = np.abs( (custom_predictions >= 0.5).astype(int).flatten() - (model_predictions >= 0.5).astype(int).flatten()).mean()\n",
        "print(\"Mean Absolute Difference:\", difference)"
      ],
      "metadata": {
        "colab": {
          "base_uri": "https://localhost:8080/",
          "height": 0
        },
        "id": "AY4D0uM5Ww1T",
        "outputId": "030ec49e-0648-42be-cfe8-a8932a924406"
      },
      "execution_count": 35,
      "outputs": [
        {
          "output_type": "stream",
          "name": "stdout",
          "text": [
            "Mean Absolute Difference: 0.1\n"
          ]
        }
      ]
    },
    {
      "cell_type": "code",
      "source": [
        "# Flatten y_test[:10] to ensure it's a 1D array\n",
        "y_true = y_test[:10].flatten()\n",
        "\n",
        "# Convert predictions to binary (0 or 1) and ensure they are also 1D\n",
        "model_binary_predictions = (model_predictions >= 0.5).astype(int).flatten()\n",
        "custom_binary_predictions = (custom_predictions >= 0.5).astype(int).flatten()\n",
        "\n",
        "# Generate classification reports\n",
        "print(\"Model Predictions Classification Report:\")\n",
        "print(classification_report(y_true, model_binary_predictions))\n",
        "\n",
        "print(\"\\nCustom Predictions Classification Report:\")\n",
        "print(classification_report(y_true, custom_binary_predictions))\n"
      ],
      "metadata": {
        "colab": {
          "base_uri": "https://localhost:8080/",
          "height": 0
        },
        "id": "Pm5XQNYuOXlr",
        "outputId": "b27037a4-40d8-46d4-82d4-270cbbc616cf"
      },
      "execution_count": 23,
      "outputs": [
        {
          "output_type": "stream",
          "name": "stdout",
          "text": [
            "Model Predictions Classification Report:\n",
            "              precision    recall  f1-score   support\n",
            "\n",
            "           0       0.50      1.00      0.67         1\n",
            "           1       1.00      0.89      0.94         9\n",
            "\n",
            "    accuracy                           0.90        10\n",
            "   macro avg       0.75      0.94      0.80        10\n",
            "weighted avg       0.95      0.90      0.91        10\n",
            "\n",
            "\n",
            "Custom Predictions Classification Report:\n",
            "              precision    recall  f1-score   support\n",
            "\n",
            "           0       0.33      1.00      0.50         1\n",
            "           1       1.00      0.78      0.88         9\n",
            "\n",
            "    accuracy                           0.80        10\n",
            "   macro avg       0.67      0.89      0.69        10\n",
            "weighted avg       0.93      0.80      0.84        10\n",
            "\n"
          ]
        }
      ]
    },
    {
      "cell_type": "markdown",
      "source": [
        "#Time Comparision between model predictions and custom predictions"
      ],
      "metadata": {
        "id": "9dy_RoD8khCo"
      }
    },
    {
      "cell_type": "code",
      "source": [
        "import time\n",
        "\n",
        "# Measure time for custom LSTM_forward predictions\n",
        "start_time = time.time()\n",
        "custom_predictions = predict(test_data_sample)\n",
        "custom_time = time.time() - start_time\n",
        "\n",
        "# Measure time for model predictions\n",
        "start_time = time.time()\n",
        "model_predictions = model22.predict(X_test[:10])\n",
        "model_time = time.time() - start_time\n",
        "\n",
        "print(f\"Custom LSTM_forward Time: {custom_time:.4f} seconds\")\n",
        "print(f\"Model Prediction Time: {model_time:.4f} seconds\")\n"
      ],
      "metadata": {
        "colab": {
          "base_uri": "https://localhost:8080/",
          "height": 0
        },
        "id": "7SrFE4CMJnQX",
        "outputId": "49405a98-ee85-4a53-c48f-ac2622f40c31"
      },
      "execution_count": 24,
      "outputs": [
        {
          "output_type": "stream",
          "name": "stdout",
          "text": [
            "\u001b[1m1/1\u001b[0m \u001b[32m━━━━━━━━━━━━━━━━━━━━\u001b[0m\u001b[37m\u001b[0m \u001b[1m0s\u001b[0m 23ms/step\n",
            "Custom LSTM_forward Time: 0.3824 seconds\n",
            "Model Prediction Time: 0.0643 seconds\n"
          ]
        }
      ]
    },
    {
      "cell_type": "code",
      "source": [
        "pip install memory_profiler"
      ],
      "metadata": {
        "colab": {
          "base_uri": "https://localhost:8080/",
          "height": 0
        },
        "id": "GpoXdujLKLbW",
        "outputId": "b6f00222-7b68-4f87-fcf2-a7fc3e8ce9f9"
      },
      "execution_count": 26,
      "outputs": [
        {
          "output_type": "stream",
          "name": "stdout",
          "text": [
            "Collecting memory_profiler\n",
            "  Downloading memory_profiler-0.61.0-py3-none-any.whl.metadata (20 kB)\n",
            "Requirement already satisfied: psutil in /usr/local/lib/python3.10/dist-packages (from memory_profiler) (5.9.5)\n",
            "Downloading memory_profiler-0.61.0-py3-none-any.whl (31 kB)\n",
            "Installing collected packages: memory_profiler\n",
            "Successfully installed memory_profiler-0.61.0\n"
          ]
        }
      ]
    },
    {
      "cell_type": "markdown",
      "source": [
        "#Memory Comparision between model predictions and custom predictions"
      ],
      "metadata": {
        "id": "PMIOfyx4kmFd"
      }
    },
    {
      "cell_type": "code",
      "source": [
        "from memory_profiler import memory_usage\n",
        "\n",
        "# Measure memory usage for custom predictions\n",
        "def run_custom_predictions():\n",
        "    return predict(test_data_sample)\n",
        "\n",
        "custom_memory = memory_usage(run_custom_predictions)\n",
        "\n",
        "# Measure memory usage for model predictions\n",
        "def run_model_predictions():\n",
        "    return model22.predict(X_test[:10])\n",
        "\n",
        "model_memory = memory_usage(run_model_predictions)\n",
        "\n",
        "print(f\"Custom LSTM_forward Memory Usage: {max(custom_memory) - min(custom_memory):.4f} MiB\")\n",
        "print(f\"Model Prediction Memory Usage: {max(model_memory) - min(model_memory):.4f} MiB\")\n"
      ],
      "metadata": {
        "colab": {
          "base_uri": "https://localhost:8080/",
          "height": 0
        },
        "id": "nEwnQk-RJ_iu",
        "outputId": "a5df53e5-dd62-4993-e8be-c81279f8c223"
      },
      "execution_count": 27,
      "outputs": [
        {
          "output_type": "stream",
          "name": "stdout",
          "text": [
            "\u001b[1m1/1\u001b[0m \u001b[32m━━━━━━━━━━━━━━━━━━━━\u001b[0m\u001b[37m\u001b[0m \u001b[1m0s\u001b[0m 72ms/step\n",
            "Custom LSTM_forward Memory Usage: 0.5977 MiB\n",
            "Model Prediction Memory Usage: 0.3555 MiB\n"
          ]
        }
      ]
    },
    {
      "cell_type": "markdown",
      "source": [
        "# -Time:\n",
        "\n",
        "##Custom LSTM_forward was significantly slower due to Python loops and manual computation for each timestep.\n",
        "\n",
        "##Built-in model.predict leveraged TensorFlow’s optimized computation graph, leading to faster inference.\n",
        "\n",
        "# - Memory:\n",
        "\n",
        "##Custom implementation used slightly more memory due to temporary variables for intermediate computations.\n",
        "\n",
        "##The built-in method was more efficient and streamlined.\n",
        "\n"
      ],
      "metadata": {
        "id": "ENAdjRsBk8sC"
      }
    },
    {
      "cell_type": "markdown",
      "source": [
        "\n",
        "# - Conclusion: While the custom implementation provides insights into the LSTM mechanics, the built-in methods are far more efficient for practical applications."
      ],
      "metadata": {
        "id": "YUgpXZTWlpfu"
      }
    },
    {
      "cell_type": "code",
      "source": [
        "import os\n",
        "print(os.listdir(\"/content/drive/MyDrive/DL ASS2\"))"
      ],
      "metadata": {
        "colab": {
          "base_uri": "https://localhost:8080/"
        },
        "id": "n3vxQcH1Ot8I",
        "outputId": "4948394e-b5e1-43c4-c2a5-1305620f5665"
      },
      "execution_count": null,
      "outputs": [
        {
          "output_type": "stream",
          "name": "stdout",
          "text": [
            "['test_preprocessed.parquet', 'train_preprocessed.parquet', 'word2vec_file.bin', 'model2.weights.h5']\n"
          ]
        }
      ]
    }
  ]
}